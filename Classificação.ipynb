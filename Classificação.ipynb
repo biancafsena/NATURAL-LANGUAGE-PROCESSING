{
  "cells": [
    {
      "cell_type": "markdown",
      "metadata": {
        "id": "view-in-github",
        "colab_type": "text"
      },
      "source": [
        "<a href=\"https://colab.research.google.com/github/biancafsena/NATURAL-LANGUAGE-PROCESSING/blob/main/Classifica%C3%A7%C3%A3o.ipynb\" target=\"_parent\"><img src=\"https://colab.research.google.com/assets/colab-badge.svg\" alt=\"Open In Colab\"/></a>"
      ]
    },
    {
      "cell_type": "markdown",
      "source": [
        "#**Exercício - Aula 2**"
      ],
      "metadata": {
        "id": "KLczNfDjm578"
      },
      "id": "KLczNfDjm578"
    },
    {
      "cell_type": "markdown",
      "source": [
        "## Dado o dataset de produtos [1], você deverá desenvolver diferentes modelos para classificação de textos, envolvendo cenários diferentes. O dataset utilizado será o de classificação de produtos, utilizado na aula anterior.\n",
        "\n",
        "[1] - https://dados-ml-pln.s3-sa-east-1.amazonaws.com/produtos.csv\n",
        "\n",
        "Obs.: em todos os modelos use:\n",
        "- Remoção dos registros com valores faltantes\n",
        "- criem uma nova coluna concatenando as colunas nome e descrição.\n",
        "- randon_state igual a 42 para permitir a comparação com seus colegas e separe uma amostra de 30% para teste.\n",
        "- Nas partes 1 e 2, utilize sempre o mesmo algorítmo de classificação.\n",
        "- Para avaliação de resultados, sempre apresente o relatório de classificação e a matriz de confusão\n",
        "\n",
        "\n",
        "### Parte 1 - Diferentes tipos de vetorização com um mínimo de normalização\n",
        "\n",
        "Nesta parte você deverá aplicar apenas as seguintes técnicas de normalização:\n",
        "\n",
        "1. Tokenização\n",
        "2. Remoção de pontuação\n",
        "3. Lowercasing\n",
        "\n",
        "A partir daí, crie 3 datasets: BOW, TF e TF-IDF e treine um modelo de classificação para cada caso.\n",
        "\n",
        "Avalie os resultados comparando a performance de cada modelo e apresente suas conclusões\n",
        "\n",
        "### Parte 2 - Diferentes tipos de vetorização com um processo completo de normalização\n",
        "\n",
        "Nesta parte você deverá aplicar todas as técnicas de normalização vistas em sala:\n",
        "\n",
        "1. Tokenização\n",
        "2. Remoção de pontuação\n",
        "3. Lowercasing\n",
        "4. Remoção de stop-words\n",
        "5. Lematização/Stemmização\n",
        "\n",
        "A partir daí, crie 3 datasets: BOW, TF e TF-IDF e treine um modelo de classificação para cada caso.\n",
        "\n",
        "Avalie os resultados comparando a performance de cada modelo e apresente suas conclusões. Em suas análises, consifere também os resultados obtidos na parte 1\n",
        "\n",
        "### Parte 3 (Extra) - Diferentes algorítmos de classificação\n",
        "\n",
        "Nesta parte você deverá selecionar um dos datasets criados na parte 2 (justifique) e treinar 3 modelos de classificação utilizando diferentes algorítmos. Seguem algumas sugestões de algorítimos:\n",
        "\n",
        "- Regressão Logistica (LogisticRegression)\n",
        "- Random Forest (RandomForestClassifier)\n",
        "- Naive Bayes (MultinomialNB e BernoulliNB)\n",
        "\n",
        "\n",
        "Avalie os resultados comparando a performance de cada modelo e apresente suas conclusões.\n",
        "\n",
        "\n"
      ],
      "metadata": {
        "id": "i9jiVrQi-al0"
      },
      "id": "i9jiVrQi-al0"
    },
    {
      "cell_type": "markdown",
      "source": [
        "## **Parte 1 - Diferentes tipos de vetorização com um mínimo de normalização**"
      ],
      "metadata": {
        "id": "fRW7Bp3Z1SVg"
      },
      "id": "fRW7Bp3Z1SVg"
    },
    {
      "cell_type": "markdown",
      "source": [
        "### **Bibliotecas**"
      ],
      "metadata": {
        "id": "F1E15wjshYmf"
      },
      "id": "F1E15wjshYmf"
    },
    {
      "cell_type": "code",
      "source": [
        "import pandas as pd\n",
        "from sklearn.model_selection import train_test_split\n",
        "from sklearn.feature_extraction.text import CountVectorizer, TfidfVectorizer\n",
        "from sklearn.naive_bayes import MultinomialNB\n",
        "from sklearn.metrics import classification_report, confusion_matrix\n",
        "from sklearn.feature_extraction.text import TfidfVectorizer\n",
        "from sklearn.decomposition import PCA\n",
        "import numpy as np\n",
        "import seaborn as sns\n",
        "import matplotlib.pyplot as plt"
      ],
      "metadata": {
        "id": "--OueoSE2ThY"
      },
      "id": "--OueoSE2ThY",
      "execution_count": null,
      "outputs": []
    },
    {
      "cell_type": "markdown",
      "source": [
        "Com objetivo de importar varias bibliotecas com modulos de dados."
      ],
      "metadata": {
        "id": "mVDmeTkQhaI7"
      },
      "id": "mVDmeTkQhaI7"
    },
    {
      "cell_type": "markdown",
      "source": [
        "### **Carregador de Dados**"
      ],
      "metadata": {
        "id": "BYBItZqlkDjp"
      },
      "id": "BYBItZqlkDjp"
    },
    {
      "cell_type": "code",
      "source": [
        "url = 'https://dados-ml-pln.s3-sa-east-1.amazonaws.com/produtos.csv'\n",
        "data = pd.read_csv(url, delimiter=';')\n",
        "print(data)\n"
      ],
      "metadata": {
        "colab": {
          "base_uri": "https://localhost:8080/"
        },
        "id": "gxYMvLiHhadC",
        "outputId": "602e8e6d-ff8e-44e2-cdd3-2612b345c0cc"
      },
      "id": "gxYMvLiHhadC",
      "execution_count": null,
      "outputs": [
        {
          "output_type": "stream",
          "name": "stdout",
          "text": [
            "                                                   nome  \\\n",
            "0                               O Hobbit - 7ª Ed. 2013    \n",
            "1                    Livro - It A Coisa - Stephen King    \n",
            "2      Box  As Crônicas De Gelo E Fogo  Pocket  5 Li...   \n",
            "3                                     Box Harry Potter    \n",
            "4                             Livro Origem - Dan Brown    \n",
            "...                                                 ...   \n",
            "4075   Zelda: Breath Of The Wild - Expansion Pass - ...   \n",
            "4076   Middle Earth Shadow Of Mordor Legion Edition ...   \n",
            "4077   Fifa 17 Ps3 Dublado Em Pt Br Envio Digital Im...   \n",
            "4078   Gta San Andreas Hd Remastered Ps3 Envio Imedi...   \n",
            "4079   Mini Game  Nova Portátil 10mil Jogos Player M...   \n",
            "\n",
            "                                              descricao categoria  \n",
            "0     Produto NovoBilbo Bolseiro é um hobbit que lev...     livro  \n",
            "1     Produto NovoDurante as férias escolares de 195...     livro  \n",
            "2     Produto NovoTodo o reino de Westeros ao alcanc...     livro  \n",
            "3     Produto Novo e Físico  A série Harry Potter ch...     livro  \n",
            "4     Produto NovoDe Onde Viemos? Para Onde Vamos? R...     livro  \n",
            "...                                                 ...       ...  \n",
            "4075  ENVIO IMEDIATO APÓS CONFIRMAÇÃOCom este Passe ...      game  \n",
            "4076                                                NaN      game  \n",
            "4077                                                NaN      game  \n",
            "4078  Nome do jogo: GTA San Andreas HD RemasterConso...      game  \n",
            "4079  Para ligar o aparelho pressionar os botões On ...      game  \n",
            "\n",
            "[4080 rows x 3 columns]\n"
          ]
        }
      ]
    },
    {
      "cell_type": "markdown",
      "source": [
        "Possui o objetivo de carregar os dados do arquivo CSV da url: \"https://dados-ml-pln.s3-sa-east-1.amazonaws.com/produtos.csv\", usando a biblioteca Pandas."
      ],
      "metadata": {
        "id": "UZ8rWByQkMkD"
      },
      "id": "UZ8rWByQkMkD"
    },
    {
      "cell_type": "markdown",
      "source": [
        "### **Remoção de registros com valores faltantes**\n"
      ],
      "metadata": {
        "id": "WGHv4XZ3hfpv"
      },
      "id": "WGHv4XZ3hfpv"
    },
    {
      "cell_type": "code",
      "source": [
        "data = data.dropna()"
      ],
      "metadata": {
        "id": "_ztDzpqJk3PY"
      },
      "id": "_ztDzpqJk3PY",
      "execution_count": null,
      "outputs": []
    },
    {
      "cell_type": "markdown",
      "source": [
        "Possui o objetivo de remover linhas (registros) do DataFrame data que contenham valores faltantes (NaN, Not a Number) em qualquer uma das colunas."
      ],
      "metadata": {
        "id": "9WicY78J0Mtu"
      },
      "id": "9WicY78J0Mtu"
    },
    {
      "cell_type": "markdown",
      "source": [
        "### **Concatenando as colunas \"nome\" e \"descrição\"**"
      ],
      "metadata": {
        "id": "SYvQSM8Bk7al"
      },
      "id": "SYvQSM8Bk7al"
    },
    {
      "cell_type": "code",
      "source": [
        "data['texto'] = data['nome'] + ' ' + data['descricao']\n",
        "print(data['texto'])"
      ],
      "metadata": {
        "colab": {
          "base_uri": "https://localhost:8080/"
        },
        "id": "Uz4S3NOZk99O",
        "outputId": "1d656d31-9f86-4e12-e84b-cfbcf1f82420"
      },
      "id": "Uz4S3NOZk99O",
      "execution_count": null,
      "outputs": [
        {
          "output_type": "stream",
          "name": "stdout",
          "text": [
            "0        O Hobbit - 7ª Ed. 2013  Produto NovoBilbo Bol...\n",
            "1        Livro - It A Coisa - Stephen King  Produto No...\n",
            "2        Box  As Crônicas De Gelo E Fogo  Pocket  5 Li...\n",
            "3        Box Harry Potter  Produto Novo e Físico  A sé...\n",
            "4        Livro Origem - Dan Brown  Produto NovoDe Onde...\n",
            "                              ...                        \n",
            "4073     Red Dead Redemption Edição Do Ano Goty Xbox 3...\n",
            "4074     Jogo Gta 5 Grand Theft Auto V Ps4 Mídia Cd + ...\n",
            "4075     Zelda: Breath Of The Wild - Expansion Pass - ...\n",
            "4078     Gta San Andreas Hd Remastered Ps3 Envio Imedi...\n",
            "4079     Mini Game  Nova Portátil 10mil Jogos Player M...\n",
            "Name: texto, Length: 2916, dtype: object\n"
          ]
        }
      ]
    },
    {
      "cell_type": "markdown",
      "source": [
        "Com o objetivo de criar uma nova coluna no DataFrame data chamada 'texto'."
      ],
      "metadata": {
        "id": "6YIaObtFlUkJ"
      },
      "id": "6YIaObtFlUkJ"
    },
    {
      "cell_type": "markdown",
      "source": [
        "### **Dividindo os dados em treinamento e teste**"
      ],
      "metadata": {
        "id": "bbBJcz_SlUt6"
      },
      "id": "bbBJcz_SlUt6"
    },
    {
      "cell_type": "code",
      "source": [
        "X = data['texto']\n",
        "y = data['categoria']\n",
        "X_train, X_test, y_train, y_test = train_test_split(X, y, test_size=0.3, random_state=42)"
      ],
      "metadata": {
        "id": "0dk6OQ8srpRt"
      },
      "id": "0dk6OQ8srpRt",
      "execution_count": null,
      "outputs": []
    },
    {
      "cell_type": "markdown",
      "source": [
        "Possui o objetivo de criar um modelo que seja capaz de classificar produtos em categorias com base em seus nomes e descrições."
      ],
      "metadata": {
        "id": "w4vebXxcfxDA"
      },
      "id": "w4vebXxcfxDA"
    },
    {
      "cell_type": "markdown",
      "source": [
        "### **Vetorização BOW**"
      ],
      "metadata": {
        "id": "e0bd7z8Dswrv"
      },
      "id": "e0bd7z8Dswrv"
    },
    {
      "cell_type": "code",
      "source": [
        "count_vectorizer = CountVectorizer()\n",
        "X_train_bow = count_vectorizer.fit_transform(X_train)\n",
        "X_test_bow = count_vectorizer.transform(X_test)\n",
        "\n",
        "nb_bow = MultinomialNB()\n",
        "nb_bow.fit(X_train_bow, y_train)\n",
        "y_pred_bow = nb_bow.predict(X_test_bow)\n",
        "\n",
        "print(\"Relatório de Classificação (BOW):\")\n",
        "print(classification_report(y_test, y_pred_bow))\n",
        "print(\"Matriz de Confusão (BOW):\")\n",
        "print(confusion_matrix(y_test, y_pred_bow))\n"
      ],
      "metadata": {
        "colab": {
          "base_uri": "https://localhost:8080/"
        },
        "id": "lvWhkXGAsw9X",
        "outputId": "9960864e-45e3-4bd1-92e8-25436c6f89e9"
      },
      "id": "lvWhkXGAsw9X",
      "execution_count": null,
      "outputs": [
        {
          "output_type": "stream",
          "name": "stdout",
          "text": [
            "Relatório de Classificação (BOW):\n",
            "              precision    recall  f1-score   support\n",
            "\n",
            "   brinquedo       0.98      0.95      0.97       190\n",
            "        game       0.94      0.99      0.96       194\n",
            "       livro       0.99      0.97      0.98       261\n",
            "   maquiagem       0.99      1.00      0.99       230\n",
            "\n",
            "    accuracy                           0.98       875\n",
            "   macro avg       0.98      0.98      0.98       875\n",
            "weighted avg       0.98      0.98      0.98       875\n",
            "\n",
            "Matriz de Confusão (BOW):\n",
            "[[180   7   3   0]\n",
            " [  2 192   0   0]\n",
            " [  0   5 254   2]\n",
            " [  1   0   0 229]]\n"
          ]
        }
      ]
    },
    {
      "cell_type": "markdown",
      "source": [
        "Realizar a classificação de texto usando a técnica de Bag of Words (BOW) em combinação com o classificador Naive Bayes (MultinomialNB)."
      ],
      "metadata": {
        "id": "hZI9d8RpxigJ"
      },
      "id": "hZI9d8RpxigJ"
    },
    {
      "cell_type": "markdown",
      "source": [
        "### **Vetorização e treinamento com TF**"
      ],
      "metadata": {
        "id": "smnynbcTxiri"
      },
      "id": "smnynbcTxiri"
    },
    {
      "cell_type": "code",
      "source": [
        "tf_vectorizer = TfidfVectorizer(use_idf=False)\n",
        "X_train_tf = tf_vectorizer.fit_transform(X_train)\n",
        "X_test_tf = tf_vectorizer.transform(X_test)\n",
        "\n",
        "nb_tf = MultinomialNB()\n",
        "nb_tf.fit(X_train_tf, y_train)\n",
        "y_pred_tf = nb_tf.predict(X_test_tf)\n",
        "\n",
        "print(\"Relatório de Classificação (TF):\")\n",
        "print(classification_report(y_test, y_pred_tf))\n",
        "print(\"Matriz de Confusão (TF):\")\n",
        "print(confusion_matrix(y_test, y_pred_tf))"
      ],
      "metadata": {
        "colab": {
          "base_uri": "https://localhost:8080/"
        },
        "id": "3qba2Kzkxl1R",
        "outputId": "239ddbe6-61c9-463f-d551-49b7296c4fb3"
      },
      "id": "3qba2Kzkxl1R",
      "execution_count": null,
      "outputs": [
        {
          "output_type": "stream",
          "name": "stdout",
          "text": [
            "Relatório de Classificação (TF):\n",
            "              precision    recall  f1-score   support\n",
            "\n",
            "   brinquedo       0.99      0.84      0.91       190\n",
            "        game       0.91      0.93      0.92       194\n",
            "       livro       0.91      0.98      0.94       261\n",
            "   maquiagem       0.97      1.00      0.98       230\n",
            "\n",
            "    accuracy                           0.94       875\n",
            "   macro avg       0.94      0.93      0.94       875\n",
            "weighted avg       0.94      0.94      0.94       875\n",
            "\n",
            "Matriz de Confusão (TF):\n",
            "[[159  14  14   3]\n",
            " [  2 180  12   0]\n",
            " [  0   3 255   3]\n",
            " [  0   1   0 229]]\n"
          ]
        }
      ]
    },
    {
      "cell_type": "markdown",
      "source": [
        "Realizar a classificação de texto usando a técnica de TF,  sem a ponderação IDF (Inverse Document Frequency) em combinação com o classificador Naive Bayes Multinomial."
      ],
      "metadata": {
        "id": "A2CmJVm3yCwx"
      },
      "id": "A2CmJVm3yCwx"
    },
    {
      "cell_type": "markdown",
      "source": [
        "### **Vetorização e treinamento com TF-IDF**"
      ],
      "metadata": {
        "id": "n5V4Q_oYyDCe"
      },
      "id": "n5V4Q_oYyDCe"
    },
    {
      "cell_type": "code",
      "source": [
        "tfidf_vectorizer = TfidfVectorizer()\n",
        "X_train_tfidf = tfidf_vectorizer.fit_transform(X_train)\n",
        "X_test_tfidf = tfidf_vectorizer.transform(X_test)\n",
        "\n",
        "nb_tfidf = MultinomialNB()\n",
        "nb_tfidf.fit(X_train_tfidf, y_train)\n",
        "y_pred_tfidf = nb_tfidf.predict(X_test_tfidf)\n",
        "\n",
        "print(\"Relatório de Classificação (TF-IDF):\")\n",
        "print(classification_report(y_test, y_pred_tfidf))\n",
        "print(\"Matriz de Confusão (TF-IDF):\")\n",
        "print(confusion_matrix(y_test, y_pred_tfidf))"
      ],
      "metadata": {
        "colab": {
          "base_uri": "https://localhost:8080/"
        },
        "id": "0oxsSWgiiwV4",
        "outputId": "5b2bad76-5fa9-411d-9c4b-897e6d19ae59"
      },
      "id": "0oxsSWgiiwV4",
      "execution_count": null,
      "outputs": [
        {
          "output_type": "stream",
          "name": "stdout",
          "text": [
            "Relatório de Classificação (TF-IDF):\n",
            "              precision    recall  f1-score   support\n",
            "\n",
            "   brinquedo       0.98      0.91      0.94       190\n",
            "        game       0.93      0.99      0.96       194\n",
            "       livro       0.98      0.98      0.98       261\n",
            "   maquiagem       0.98      0.99      0.99       230\n",
            "\n",
            "    accuracy                           0.97       875\n",
            "   macro avg       0.97      0.97      0.97       875\n",
            "weighted avg       0.97      0.97      0.97       875\n",
            "\n",
            "Matriz de Confusão (TF-IDF):\n",
            "[[172  11   5   2]\n",
            " [  2 192   0   0]\n",
            " [  0   3 256   2]\n",
            " [  1   1   0 228]]\n"
          ]
        }
      ]
    },
    {
      "cell_type": "markdown",
      "source": [
        "Realizar a classificação de texto usando a técnica de TF-IDF (Term Frequency-Inverse Document Frequency) em combinação com o classificador Naive Bayes Multinomial."
      ],
      "metadata": {
        "id": "ieqpv8IcFLrg"
      },
      "id": "ieqpv8IcFLrg"
    },
    {
      "cell_type": "code",
      "source": [
        "clf_bow = MultinomialNB()\n",
        "clf_tf = MultinomialNB()\n",
        "clf_tfidf = MultinomialNB()\n",
        "\n",
        "clf_bow.fit(X_train_bow, y_train)\n",
        "clf_tf.fit(X_train_tf, y_train)\n",
        "clf_tfidf.fit(X_train_tfidf, y_train)"
      ],
      "metadata": {
        "colab": {
          "base_uri": "https://localhost:8080/",
          "height": 74
        },
        "id": "FDmASQemufZS",
        "outputId": "996cb993-2075-4c17-ea54-dbc32c104c44"
      },
      "id": "FDmASQemufZS",
      "execution_count": null,
      "outputs": [
        {
          "output_type": "execute_result",
          "data": {
            "text/plain": [
              "MultinomialNB()"
            ],
            "text/html": [
              "<style>#sk-container-id-1 {color: black;background-color: white;}#sk-container-id-1 pre{padding: 0;}#sk-container-id-1 div.sk-toggleable {background-color: white;}#sk-container-id-1 label.sk-toggleable__label {cursor: pointer;display: block;width: 100%;margin-bottom: 0;padding: 0.3em;box-sizing: border-box;text-align: center;}#sk-container-id-1 label.sk-toggleable__label-arrow:before {content: \"▸\";float: left;margin-right: 0.25em;color: #696969;}#sk-container-id-1 label.sk-toggleable__label-arrow:hover:before {color: black;}#sk-container-id-1 div.sk-estimator:hover label.sk-toggleable__label-arrow:before {color: black;}#sk-container-id-1 div.sk-toggleable__content {max-height: 0;max-width: 0;overflow: hidden;text-align: left;background-color: #f0f8ff;}#sk-container-id-1 div.sk-toggleable__content pre {margin: 0.2em;color: black;border-radius: 0.25em;background-color: #f0f8ff;}#sk-container-id-1 input.sk-toggleable__control:checked~div.sk-toggleable__content {max-height: 200px;max-width: 100%;overflow: auto;}#sk-container-id-1 input.sk-toggleable__control:checked~label.sk-toggleable__label-arrow:before {content: \"▾\";}#sk-container-id-1 div.sk-estimator input.sk-toggleable__control:checked~label.sk-toggleable__label {background-color: #d4ebff;}#sk-container-id-1 div.sk-label input.sk-toggleable__control:checked~label.sk-toggleable__label {background-color: #d4ebff;}#sk-container-id-1 input.sk-hidden--visually {border: 0;clip: rect(1px 1px 1px 1px);clip: rect(1px, 1px, 1px, 1px);height: 1px;margin: -1px;overflow: hidden;padding: 0;position: absolute;width: 1px;}#sk-container-id-1 div.sk-estimator {font-family: monospace;background-color: #f0f8ff;border: 1px dotted black;border-radius: 0.25em;box-sizing: border-box;margin-bottom: 0.5em;}#sk-container-id-1 div.sk-estimator:hover {background-color: #d4ebff;}#sk-container-id-1 div.sk-parallel-item::after {content: \"\";width: 100%;border-bottom: 1px solid gray;flex-grow: 1;}#sk-container-id-1 div.sk-label:hover label.sk-toggleable__label {background-color: #d4ebff;}#sk-container-id-1 div.sk-serial::before {content: \"\";position: absolute;border-left: 1px solid gray;box-sizing: border-box;top: 0;bottom: 0;left: 50%;z-index: 0;}#sk-container-id-1 div.sk-serial {display: flex;flex-direction: column;align-items: center;background-color: white;padding-right: 0.2em;padding-left: 0.2em;position: relative;}#sk-container-id-1 div.sk-item {position: relative;z-index: 1;}#sk-container-id-1 div.sk-parallel {display: flex;align-items: stretch;justify-content: center;background-color: white;position: relative;}#sk-container-id-1 div.sk-item::before, #sk-container-id-1 div.sk-parallel-item::before {content: \"\";position: absolute;border-left: 1px solid gray;box-sizing: border-box;top: 0;bottom: 0;left: 50%;z-index: -1;}#sk-container-id-1 div.sk-parallel-item {display: flex;flex-direction: column;z-index: 1;position: relative;background-color: white;}#sk-container-id-1 div.sk-parallel-item:first-child::after {align-self: flex-end;width: 50%;}#sk-container-id-1 div.sk-parallel-item:last-child::after {align-self: flex-start;width: 50%;}#sk-container-id-1 div.sk-parallel-item:only-child::after {width: 0;}#sk-container-id-1 div.sk-dashed-wrapped {border: 1px dashed gray;margin: 0 0.4em 0.5em 0.4em;box-sizing: border-box;padding-bottom: 0.4em;background-color: white;}#sk-container-id-1 div.sk-label label {font-family: monospace;font-weight: bold;display: inline-block;line-height: 1.2em;}#sk-container-id-1 div.sk-label-container {text-align: center;}#sk-container-id-1 div.sk-container {/* jupyter's `normalize.less` sets `[hidden] { display: none; }` but bootstrap.min.css set `[hidden] { display: none !important; }` so we also need the `!important` here to be able to override the default hidden behavior on the sphinx rendered scikit-learn.org. See: https://github.com/scikit-learn/scikit-learn/issues/21755 */display: inline-block !important;position: relative;}#sk-container-id-1 div.sk-text-repr-fallback {display: none;}</style><div id=\"sk-container-id-1\" class=\"sk-top-container\"><div class=\"sk-text-repr-fallback\"><pre>MultinomialNB()</pre><b>In a Jupyter environment, please rerun this cell to show the HTML representation or trust the notebook. <br />On GitHub, the HTML representation is unable to render, please try loading this page with nbviewer.org.</b></div><div class=\"sk-container\" hidden><div class=\"sk-item\"><div class=\"sk-estimator sk-toggleable\"><input class=\"sk-toggleable__control sk-hidden--visually\" id=\"sk-estimator-id-1\" type=\"checkbox\" checked><label for=\"sk-estimator-id-1\" class=\"sk-toggleable__label sk-toggleable__label-arrow\">MultinomialNB</label><div class=\"sk-toggleable__content\"><pre>MultinomialNB()</pre></div></div></div></div></div>"
            ]
          },
          "metadata": {},
          "execution_count": 9
        }
      ]
    },
    {
      "cell_type": "markdown",
      "source": [
        "### **Avaliando os modelos - BOW, TF e TF-IDF**"
      ],
      "metadata": {
        "id": "Czfn5ZB_orif"
      },
      "id": "Czfn5ZB_orif"
    },
    {
      "cell_type": "code",
      "source": [
        "y_pred_bow = clf_bow.predict(X_test_bow)\n",
        "y_pred_tf = clf_tf.predict(X_test_tf)\n",
        "y_pred_tfidf = clf_tfidf.predict(X_test_tfidf)\n",
        "\n",
        "cm_bow = confusion_matrix(y_test, y_pred_bow)\n",
        "plt.figure(figsize=(8, 6))\n",
        "sns.heatmap(cm_bow, annot=True, fmt=\"d\", cmap=\"Blues\", xticklabels=clf_bow.classes_, yticklabels=clf_bow.classes_)\n",
        "plt.xlabel('Predicted')\n",
        "plt.ylabel('True')\n",
        "plt.title('Confusion Matrix for BOW')\n",
        "plt.show()\n",
        "\n",
        "print(\"Resultados para BOW:\")\n",
        "print(classification_report(y_test, y_pred_bow))\n",
        "print(\"Matriz de Confusão para BOW:\")\n",
        "print(confusion_matrix(y_test, y_pred_bow))\n",
        "\n",
        "\n",
        "cm_tf = confusion_matrix(y_test, y_pred_tf)\n",
        "plt.figure(figsize=(8, 6))\n",
        "sns.heatmap(cm_tf, annot=True, fmt=\"d\", cmap=\"Blues\", xticklabels=clf_tf.classes_, yticklabels=clf_tf.classes_)\n",
        "plt.xlabel('Predicted')\n",
        "plt.ylabel('True')\n",
        "plt.title('Confusion Matrix for TF')\n",
        "plt.show()\n",
        "\n",
        "print(\"Resultados para TF:\")\n",
        "print(classification_report(y_test, y_pred_tf))\n",
        "print(\"Matriz de Confusão para TF:\")\n",
        "print(confusion_matrix(y_test, y_pred_tf))\n",
        "\n",
        "\n",
        "cm_tfidf = confusion_matrix(y_test, y_pred_tfidf)\n",
        "plt.figure(figsize=(8, 6))\n",
        "sns.heatmap(cm_tfidf, annot=True, fmt=\"d\", cmap=\"Blues\", xticklabels=clf_tfidf.classes_, yticklabels=clf_tfidf.classes_)\n",
        "plt.xlabel('Predicted')\n",
        "plt.ylabel('True')\n",
        "plt.title('Confusion Matrix for TF-IDF')\n",
        "plt.show()\n",
        "\n",
        "print(\"Resultados para TF-IDF:\")\n",
        "print(classification_report(y_test, y_pred_tfidf))\n",
        "print(\"Matriz de Confusão para TF-IDF:\")\n",
        "print(confusion_matrix(y_test, y_pred_tfidf))"
      ],
      "metadata": {
        "colab": {
          "base_uri": "https://localhost:8080/",
          "height": 1000
        },
        "id": "ttG8x3yLuVI_",
        "outputId": "389d8fad-9d68-4d8c-9787-150e08e354bf"
      },
      "id": "ttG8x3yLuVI_",
      "execution_count": null,
      "outputs": [
        {
          "output_type": "display_data",
          "data": {
            "text/plain": [
              "<Figure size 800x600 with 2 Axes>"
            ],
            "image/png": "[encoded data removed]"
          },
          "metadata": {}
        },
        {
          "output_type": "stream",
          "name": "stdout",
          "text": [
            "Resultados para BOW:\n",
            "              precision    recall  f1-score   support\n",
            "\n",
            "   brinquedo       0.98      0.95      0.97       190\n",
            "        game       0.94      0.99      0.96       194\n",
            "       livro       0.99      0.97      0.98       261\n",
            "   maquiagem       0.99      1.00      0.99       230\n",
            "\n",
            "    accuracy                           0.98       875\n",
            "   macro avg       0.98      0.98      0.98       875\n",
            "weighted avg       0.98      0.98      0.98       875\n",
            "\n",
            "Matriz de Confusão para BOW:\n",
            "[[180   7   3   0]\n",
            " [  2 192   0   0]\n",
            " [  0   5 254   2]\n",
            " [  1   0   0 229]]\n"
          ]
        },
        {
          "output_type": "display_data",
          "data": {
            "text/plain": [
              "<Figure size 800x600 with 2 Axes>"
            ],
            "image/png": "[encoded data removed]"
          },
          "metadata": {}
        },
        {
          "output_type": "stream",
          "name": "stdout",
          "text": [
            "Resultados para TF:\n",
            "              precision    recall  f1-score   support\n",
            "\n",
            "   brinquedo       0.99      0.84      0.91       190\n",
            "        game       0.91      0.93      0.92       194\n",
            "       livro       0.91      0.98      0.94       261\n",
            "   maquiagem       0.97      1.00      0.98       230\n",
            "\n",
            "    accuracy                           0.94       875\n",
            "   macro avg       0.94      0.93      0.94       875\n",
            "weighted avg       0.94      0.94      0.94       875\n",
            "\n",
            "Matriz de Confusão para TF:\n",
            "[[159  14  14   3]\n",
            " [  2 180  12   0]\n",
            " [  0   3 255   3]\n",
            " [  0   1   0 229]]\n"
          ]
        },
        {
          "output_type": "display_data",
          "data": {
            "text/plain": [
              "<Figure size 800x600 with 2 Axes>"
            ],
            "image/png": "[encoded data removed]"
          },
          "metadata": {}
        },
        {
          "output_type": "stream",
          "name": "stdout",
          "text": [
            "Resultados para TF-IDF:\n",
            "              precision    recall  f1-score   support\n",
            "\n",
            "   brinquedo       0.98      0.91      0.94       190\n",
            "        game       0.93      0.99      0.96       194\n",
            "       livro       0.98      0.98      0.98       261\n",
            "   maquiagem       0.98      0.99      0.99       230\n",
            "\n",
            "    accuracy                           0.97       875\n",
            "   macro avg       0.97      0.97      0.97       875\n",
            "weighted avg       0.97      0.97      0.97       875\n",
            "\n",
            "Matriz de Confusão para TF-IDF:\n",
            "[[172  11   5   2]\n",
            " [  2 192   0   0]\n",
            " [  0   3 256   2]\n",
            " [  1   1   0 228]]\n"
          ]
        }
      ]
    },
    {
      "cell_type": "markdown",
      "source": [
        "### **Conclusão - PARTE 01**\n",
        "\n",
        "Na \"Parte 1\", foram aplicadas três técnicas de vetorização de texto (BOW, TF e TF-IDF) com um mínimo de normalização, incluindo tokenização, remoção de pontuação e conversão para letras minúsculas.\n",
        "\n",
        "Foram treinados modelos de classificação usando o algoritmo Multinomial Naive Bayes para cada técnica de vetorização.\n",
        "\n",
        "As técnicas de vetorização (BOW, TF e TF-IDF) são úteis para a representação de texto em problemas de classificação.\n",
        "\n",
        "Cada técnica teve um desempenho razoável na classificação de produtos, com algumas diferenças nas métricas de avaliação.\n",
        "\n",
        "A técnica TF-IDF apresentou um desempenho ligeiramente melhor em termos de precisão, recall e F1-score em comparação com BOW e TF.\n",
        "\n",
        "A escolha da técnica de vetorização pode depender do contexto e dos requisitos específicos do problema.\n",
        "\n",
        "A **Parte 1** serviu como uma base para compreender como diferentes técnicas de vetorização afetam o desempenho do modelo de classificação."
      ],
      "metadata": {
        "id": "vhVQJKboDZlr"
      },
      "id": "vhVQJKboDZlr"
    },
    {
      "cell_type": "markdown",
      "source": [
        "## **Parte 2 - Diferentes tipos de vetorização com um processo completo de normalização**"
      ],
      "metadata": {
        "id": "jk-ZGn_R1R3t"
      },
      "id": "jk-ZGn_R1R3t"
    },
    {
      "cell_type": "markdown",
      "source": [
        "### **Bibliotecas**"
      ],
      "metadata": {
        "id": "ZDWcL9ZU63oW"
      },
      "id": "ZDWcL9ZU63oW"
    },
    {
      "cell_type": "code",
      "source": [
        "import pandas as pd\n",
        "import string\n",
        "import nltk\n",
        "import matplotlib.pyplot as plt\n",
        "import seaborn as sns\n",
        "from sklearn.model_selection import train_test_split\n",
        "from sklearn.feature_extraction.text import CountVectorizer, TfidfVectorizer\n",
        "from sklearn.naive_bayes import MultinomialNB\n",
        "from sklearn.metrics import classification_report, confusion_matrix\n",
        "from nltk.corpus import stopwords\n",
        "from nltk.stem import WordNetLemmatizer\n",
        "from sklearn.metrics import classification_report\n",
        "from nltk.stem import SnowballStemmer\n",
        "from nltk.corpus import stopwords"
      ],
      "metadata": {
        "id": "yrekgt1Z2UaJ"
      },
      "id": "yrekgt1Z2UaJ",
      "execution_count": null,
      "outputs": []
    },
    {
      "cell_type": "markdown",
      "source": [
        "Com objetivo de importar varias bibliotecas com modulos de dados."
      ],
      "metadata": {
        "id": "dNivNt9g65GW"
      },
      "id": "dNivNt9g65GW"
    },
    {
      "cell_type": "markdown",
      "source": [
        "### **Download de Recursos Linguísticos**"
      ],
      "metadata": {
        "id": "gT3ZSW2566PW"
      },
      "id": "gT3ZSW2566PW"
    },
    {
      "cell_type": "code",
      "source": [
        "nltk.download('wordnet')\n",
        "nltk.download('stopwords')"
      ],
      "metadata": {
        "colab": {
          "base_uri": "https://localhost:8080/"
        },
        "id": "ALMthDd07IkG",
        "outputId": "0f47106c-34b3-445a-b452-46e913e2344b"
      },
      "id": "ALMthDd07IkG",
      "execution_count": null,
      "outputs": [
        {
          "output_type": "stream",
          "name": "stderr",
          "text": [
            "[nltk_data] Downloading package wordnet to /root/nltk_data...\n",
            "[nltk_data] Downloading package stopwords to /root/nltk_data...\n",
            "[nltk_data]   Unzipping corpora/stopwords.zip.\n"
          ]
        },
        {
          "output_type": "execute_result",
          "data": {
            "text/plain": [
              "True"
            ]
          },
          "metadata": {},
          "execution_count": 12
        }
      ]
    },
    {
      "cell_type": "markdown",
      "source": [
        "O objetivo desses comandos é garantir que obtenha acesso aos recursos linguisticos da biblioteca NLTK (Natural Language Toolkit) para realizar tarefas de processamento de linguagem natural, como lematização, stemming e remoção de stopwords."
      ],
      "metadata": {
        "id": "pnW8KVAO7LVg"
      },
      "id": "pnW8KVAO7LVg"
    },
    {
      "cell_type": "markdown",
      "source": [
        "### **Carregador de Dados**"
      ],
      "metadata": {
        "id": "bV8E5SIi7Tug"
      },
      "id": "bV8E5SIi7Tug"
    },
    {
      "cell_type": "code",
      "source": [
        "url = 'https://dados-ml-pln.s3-sa-east-1.amazonaws.com/produtos.csv'\n",
        "data = pd.read_csv(url, delimiter=';')\n",
        "print(data)"
      ],
      "metadata": {
        "colab": {
          "base_uri": "https://localhost:8080/"
        },
        "id": "OmzjYDeV7UJl",
        "outputId": "46cd75e5-3710-40f0-8dbe-4dbff937b185"
      },
      "id": "OmzjYDeV7UJl",
      "execution_count": null,
      "outputs": [
        {
          "output_type": "stream",
          "name": "stdout",
          "text": [
            "                                                   nome  \\\n",
            "0                               O Hobbit - 7ª Ed. 2013    \n",
            "1                    Livro - It A Coisa - Stephen King    \n",
            "2      Box  As Crônicas De Gelo E Fogo  Pocket  5 Li...   \n",
            "3                                     Box Harry Potter    \n",
            "4                             Livro Origem - Dan Brown    \n",
            "...                                                 ...   \n",
            "4075   Zelda: Breath Of The Wild - Expansion Pass - ...   \n",
            "4076   Middle Earth Shadow Of Mordor Legion Edition ...   \n",
            "4077   Fifa 17 Ps3 Dublado Em Pt Br Envio Digital Im...   \n",
            "4078   Gta San Andreas Hd Remastered Ps3 Envio Imedi...   \n",
            "4079   Mini Game  Nova Portátil 10mil Jogos Player M...   \n",
            "\n",
            "                                              descricao categoria  \n",
            "0     Produto NovoBilbo Bolseiro é um hobbit que lev...     livro  \n",
            "1     Produto NovoDurante as férias escolares de 195...     livro  \n",
            "2     Produto NovoTodo o reino de Westeros ao alcanc...     livro  \n",
            "3     Produto Novo e Físico  A série Harry Potter ch...     livro  \n",
            "4     Produto NovoDe Onde Viemos? Para Onde Vamos? R...     livro  \n",
            "...                                                 ...       ...  \n",
            "4075  ENVIO IMEDIATO APÓS CONFIRMAÇÃOCom este Passe ...      game  \n",
            "4076                                                NaN      game  \n",
            "4077                                                NaN      game  \n",
            "4078  Nome do jogo: GTA San Andreas HD RemasterConso...      game  \n",
            "4079  Para ligar o aparelho pressionar os botões On ...      game  \n",
            "\n",
            "[4080 rows x 3 columns]\n"
          ]
        }
      ]
    },
    {
      "cell_type": "markdown",
      "source": [
        "Possui o objetivo de carregar os dados do arquivo CSV da url: \"https://dados-ml-pln.s3-sa-east-1.amazonaws.com/produtos.csv\", usando a biblioteca Pandas."
      ],
      "metadata": {
        "id": "84OgvZYl79ks"
      },
      "id": "84OgvZYl79ks"
    },
    {
      "cell_type": "markdown",
      "source": [
        "### **Remoção de registros com valores faltantes**"
      ],
      "metadata": {
        "id": "AHRfaQBr8fRn"
      },
      "id": "AHRfaQBr8fRn"
    },
    {
      "cell_type": "code",
      "source": [
        "data = data.dropna()"
      ],
      "metadata": {
        "id": "imroQSHO8f6i"
      },
      "id": "imroQSHO8f6i",
      "execution_count": null,
      "outputs": []
    },
    {
      "cell_type": "markdown",
      "source": [
        "Possui o objetivo de remover linhas (registros) do DataFrame data que contenham valores faltantes (NaN, Not a Number) em qualquer uma das colunas."
      ],
      "metadata": {
        "id": "pv9A-LKs8gHZ"
      },
      "id": "pv9A-LKs8gHZ"
    },
    {
      "cell_type": "markdown",
      "source": [
        "### **Concatenando as colunas \"nome\" e \"descrição\"**"
      ],
      "metadata": {
        "id": "CffnDcXZ8A2s"
      },
      "id": "CffnDcXZ8A2s"
    },
    {
      "cell_type": "code",
      "source": [
        "data['texto'] = data['nome'] + ' ' + data['descricao']\n",
        "print(data['texto'])"
      ],
      "metadata": {
        "colab": {
          "base_uri": "https://localhost:8080/"
        },
        "id": "igHFE7Hf8BBx",
        "outputId": "89b171fb-7b40-4262-c08b-db26aea77c5a"
      },
      "id": "igHFE7Hf8BBx",
      "execution_count": null,
      "outputs": [
        {
          "output_type": "stream",
          "name": "stdout",
          "text": [
            "0        O Hobbit - 7ª Ed. 2013  Produto NovoBilbo Bol...\n",
            "1        Livro - It A Coisa - Stephen King  Produto No...\n",
            "2        Box  As Crônicas De Gelo E Fogo  Pocket  5 Li...\n",
            "3        Box Harry Potter  Produto Novo e Físico  A sé...\n",
            "4        Livro Origem - Dan Brown  Produto NovoDe Onde...\n",
            "                              ...                        \n",
            "4073     Red Dead Redemption Edição Do Ano Goty Xbox 3...\n",
            "4074     Jogo Gta 5 Grand Theft Auto V Ps4 Mídia Cd + ...\n",
            "4075     Zelda: Breath Of The Wild - Expansion Pass - ...\n",
            "4078     Gta San Andreas Hd Remastered Ps3 Envio Imedi...\n",
            "4079     Mini Game  Nova Portátil 10mil Jogos Player M...\n",
            "Name: texto, Length: 2916, dtype: object\n"
          ]
        }
      ]
    },
    {
      "cell_type": "markdown",
      "source": [
        "Com o objetivo de criar uma nova coluna no DataFrame data chamada 'texto'."
      ],
      "metadata": {
        "id": "ijXWox3g8D_a"
      },
      "id": "ijXWox3g8D_a"
    },
    {
      "cell_type": "markdown",
      "source": [
        "### **Separando dados de treinamento e teste (30% para teste)**"
      ],
      "metadata": {
        "id": "gDVppxUn42uA"
      },
      "id": "gDVppxUn42uA"
    },
    {
      "cell_type": "code",
      "source": [
        "X = data['texto']\n",
        "y = data['categoria']\n",
        "X_train, X_test, y_train, y_test = train_test_split(X, y, test_size=0.3, random_state=42)"
      ],
      "metadata": {
        "id": "ILjDRGr443FY"
      },
      "id": "ILjDRGr443FY",
      "execution_count": null,
      "outputs": []
    },
    {
      "cell_type": "markdown",
      "source": [
        "Preparação dos dados para treinamento e teste de um modelo de classificação de texto."
      ],
      "metadata": {
        "id": "7-hEvAjs43al"
      },
      "id": "7-hEvAjs43al"
    },
    {
      "cell_type": "markdown",
      "source": [
        "### **Função de pré-processamento**"
      ],
      "metadata": {
        "id": "o06AZimZ8EFH"
      },
      "id": "o06AZimZ8EFH"
    },
    {
      "cell_type": "code",
      "source": [
        "def preprocess_text(text):\n",
        "    # Tokenização\n",
        "    tokens = text.split()\n",
        "    # Remoção de pontuação\n",
        "    tokens = [word for word in tokens if word not in string.punctuation]\n",
        "    # Lowercasing\n",
        "    tokens = [word.lower() for word in tokens]\n",
        "    # Remoção de stop-words\n",
        "    tokens = [word for word in tokens if word not in stopwords.words('english')]\n",
        "    # Lematização\n",
        "    lemmatizer = WordNetLemmatizer()\n",
        "    tokens = [lemmatizer.lemmatize(word) for word in tokens]\n",
        "    return ' '.join(tokens)\n",
        "\n",
        "    X_train = X_train.apply(preprocess)\n",
        "    X_test = X_test.apply(preprocess)\n"
      ],
      "metadata": {
        "id": "PUjldsWz8wvj"
      },
      "id": "PUjldsWz8wvj",
      "execution_count": null,
      "outputs": []
    },
    {
      "cell_type": "markdown",
      "source": [
        "Possui o objetivo de criar uma função que realiza uma série de etapas de pré-processamento de texto em um documento de texto"
      ],
      "metadata": {
        "id": "L3zATNYga1SI"
      },
      "id": "L3zATNYga1SI"
    },
    {
      "cell_type": "markdown",
      "source": [
        "### **Aplicando o pré-processamento aos dados**"
      ],
      "metadata": {
        "id": "7z4VUxz7_Dxt"
      },
      "id": "7z4VUxz7_Dxt"
    },
    {
      "cell_type": "code",
      "source": [
        "data['preprocessed_text'] = data['texto'].apply(preprocess_text)"
      ],
      "metadata": {
        "id": "z3T8-7afADqM"
      },
      "id": "z3T8-7afADqM",
      "execution_count": null,
      "outputs": []
    },
    {
      "cell_type": "markdown",
      "source": [
        "Aplicar a função de pré-processamento de texto preprocess_text a uma coluna chamada 'texto' em um DataFrame data e armazenar os resultados na nova coluna 'preprocessed_text'."
      ],
      "metadata": {
        "id": "buEnxJNEA2Ma"
      },
      "id": "buEnxJNEA2Ma"
    },
    {
      "cell_type": "markdown",
      "source": [
        "### **Criando os vetores BOW, TF e TF-IDF**"
      ],
      "metadata": {
        "id": "bHeY0Exan0i8"
      },
      "id": "bHeY0Exan0i8"
    },
    {
      "cell_type": "code",
      "source": [
        "bow_vectorizer = CountVectorizer()\n",
        "tf_vectorizer = TfidfVectorizer(use_idf=False)\n",
        "tfidf_vectorizer = TfidfVectorizer(use_idf=True)\n",
        "\n",
        "X_train_bow = bow_vectorizer.fit_transform(X_train)\n",
        "X_test_bow = bow_vectorizer.transform(X_test)\n",
        "\n",
        "X_train_tf = tf_vectorizer.fit_transform(X_train)\n",
        "X_test_tf = tf_vectorizer.transform(X_test)\n",
        "\n",
        "X_train_tfidf = tfidf_vectorizer.fit_transform(X_train)\n",
        "X_test_tfidf = tfidf_vectorizer.transform(X_test)"
      ],
      "metadata": {
        "id": "JRmW5AAg0Km5"
      },
      "id": "JRmW5AAg0Km5",
      "execution_count": null,
      "outputs": []
    },
    {
      "cell_type": "markdown",
      "source": [
        "Prepararação do texto para treinamento e teste em modelos de classificação de texto, aplicando três técnicas diferentes de vetorização - BOW, TF e TF-IDF."
      ],
      "metadata": {
        "id": "2TDaISYP54qR"
      },
      "id": "2TDaISYP54qR"
    },
    {
      "cell_type": "markdown",
      "source": [
        "### **Treinando modelos**"
      ],
      "metadata": {
        "id": "Fzk9xxxM5405"
      },
      "id": "Fzk9xxxM5405"
    },
    {
      "cell_type": "code",
      "source": [
        "clf_bow = MultinomialNB()\n",
        "clf_tf = MultinomialNB()\n",
        "clf_tfidf = MultinomialNB()\n",
        "\n",
        "clf_bow.fit(X_train_bow, y_train)\n",
        "clf_tf.fit(X_train_tf, y_train)\n",
        "clf_tfidf.fit(X_train_tfidf, y_train)"
      ],
      "metadata": {
        "colab": {
          "base_uri": "https://localhost:8080/",
          "height": 74
        },
        "id": "g1dS-kw20Khu",
        "outputId": "8d22e0a1-e686-4ba8-a97c-25b08bbc334f"
      },
      "id": "g1dS-kw20Khu",
      "execution_count": null,
      "outputs": [
        {
          "output_type": "execute_result",
          "data": {
            "text/plain": [
              "MultinomialNB()"
            ],
            "text/html": [
              "<style>#sk-container-id-5 {color: black;background-color: white;}#sk-container-id-5 pre{padding: 0;}#sk-container-id-5 div.sk-toggleable {background-color: white;}#sk-container-id-5 label.sk-toggleable__label {cursor: pointer;display: block;width: 100%;margin-bottom: 0;padding: 0.3em;box-sizing: border-box;text-align: center;}#sk-container-id-5 label.sk-toggleable__label-arrow:before {content: \"▸\";float: left;margin-right: 0.25em;color: #696969;}#sk-container-id-5 label.sk-toggleable__label-arrow:hover:before {color: black;}#sk-container-id-5 div.sk-estimator:hover label.sk-toggleable__label-arrow:before {color: black;}#sk-container-id-5 div.sk-toggleable__content {max-height: 0;max-width: 0;overflow: hidden;text-align: left;background-color: #f0f8ff;}#sk-container-id-5 div.sk-toggleable__content pre {margin: 0.2em;color: black;border-radius: 0.25em;background-color: #f0f8ff;}#sk-container-id-5 input.sk-toggleable__control:checked~div.sk-toggleable__content {max-height: 200px;max-width: 100%;overflow: auto;}#sk-container-id-5 input.sk-toggleable__control:checked~label.sk-toggleable__label-arrow:before {content: \"▾\";}#sk-container-id-5 div.sk-estimator input.sk-toggleable__control:checked~label.sk-toggleable__label {background-color: #d4ebff;}#sk-container-id-5 div.sk-label input.sk-toggleable__control:checked~label.sk-toggleable__label {background-color: #d4ebff;}#sk-container-id-5 input.sk-hidden--visually {border: 0;clip: rect(1px 1px 1px 1px);clip: rect(1px, 1px, 1px, 1px);height: 1px;margin: -1px;overflow: hidden;padding: 0;position: absolute;width: 1px;}#sk-container-id-5 div.sk-estimator {font-family: monospace;background-color: #f0f8ff;border: 1px dotted black;border-radius: 0.25em;box-sizing: border-box;margin-bottom: 0.5em;}#sk-container-id-5 div.sk-estimator:hover {background-color: #d4ebff;}#sk-container-id-5 div.sk-parallel-item::after {content: \"\";width: 100%;border-bottom: 1px solid gray;flex-grow: 1;}#sk-container-id-5 div.sk-label:hover label.sk-toggleable__label {background-color: #d4ebff;}#sk-container-id-5 div.sk-serial::before {content: \"\";position: absolute;border-left: 1px solid gray;box-sizing: border-box;top: 0;bottom: 0;left: 50%;z-index: 0;}#sk-container-id-5 div.sk-serial {display: flex;flex-direction: column;align-items: center;background-color: white;padding-right: 0.2em;padding-left: 0.2em;position: relative;}#sk-container-id-5 div.sk-item {position: relative;z-index: 1;}#sk-container-id-5 div.sk-parallel {display: flex;align-items: stretch;justify-content: center;background-color: white;position: relative;}#sk-container-id-5 div.sk-item::before, #sk-container-id-5 div.sk-parallel-item::before {content: \"\";position: absolute;border-left: 1px solid gray;box-sizing: border-box;top: 0;bottom: 0;left: 50%;z-index: -1;}#sk-container-id-5 div.sk-parallel-item {display: flex;flex-direction: column;z-index: 1;position: relative;background-color: white;}#sk-container-id-5 div.sk-parallel-item:first-child::after {align-self: flex-end;width: 50%;}#sk-container-id-5 div.sk-parallel-item:last-child::after {align-self: flex-start;width: 50%;}#sk-container-id-5 div.sk-parallel-item:only-child::after {width: 0;}#sk-container-id-5 div.sk-dashed-wrapped {border: 1px dashed gray;margin: 0 0.4em 0.5em 0.4em;box-sizing: border-box;padding-bottom: 0.4em;background-color: white;}#sk-container-id-5 div.sk-label label {font-family: monospace;font-weight: bold;display: inline-block;line-height: 1.2em;}#sk-container-id-5 div.sk-label-container {text-align: center;}#sk-container-id-5 div.sk-container {/* jupyter's `normalize.less` sets `[hidden] { display: none; }` but bootstrap.min.css set `[hidden] { display: none !important; }` so we also need the `!important` here to be able to override the default hidden behavior on the sphinx rendered scikit-learn.org. See: https://github.com/scikit-learn/scikit-learn/issues/21755 */display: inline-block !important;position: relative;}#sk-container-id-5 div.sk-text-repr-fallback {display: none;}</style><div id=\"sk-container-id-5\" class=\"sk-top-container\"><div class=\"sk-text-repr-fallback\"><pre>MultinomialNB()</pre><b>In a Jupyter environment, please rerun this cell to show the HTML representation or trust the notebook. <br />On GitHub, the HTML representation is unable to render, please try loading this page with nbviewer.org.</b></div><div class=\"sk-container\" hidden><div class=\"sk-item\"><div class=\"sk-estimator sk-toggleable\"><input class=\"sk-toggleable__control sk-hidden--visually\" id=\"sk-estimator-id-5\" type=\"checkbox\" checked><label for=\"sk-estimator-id-5\" class=\"sk-toggleable__label sk-toggleable__label-arrow\">MultinomialNB</label><div class=\"sk-toggleable__content\"><pre>MultinomialNB()</pre></div></div></div></div></div>"
            ]
          },
          "metadata": {},
          "execution_count": 47
        }
      ]
    },
    {
      "cell_type": "markdown",
      "source": [
        "Possui o objetivo de treinar três modelos de classificação de texto usando o algoritmo Multinomial Naive Bayes com base em diferentes representações de texto (BOW, TF e TF-IDF) para posteriormente avaliar o desempenho de cada modelo."
      ],
      "metadata": {
        "id": "uTaLwLl_56ab"
      },
      "id": "uTaLwLl_56ab"
    },
    {
      "cell_type": "markdown",
      "source": [
        "### **Função para plotar matrizes de confusão**"
      ],
      "metadata": {
        "id": "XnlTN_e08AiG"
      },
      "id": "XnlTN_e08AiG"
    },
    {
      "cell_type": "code",
      "source": [
        "def plot_confusion_matrix(y_true, y_pred, labels, title):\n",
        "    cm = confusion_matrix(y_true, y_pred)\n",
        "    plt.figure(figsize=(8, 6))\n",
        "    sns.heatmap(cm, annot=True, fmt='d', cmap='Blues', xticklabels=labels, yticklabels=labels)\n",
        "    plt.xlabel('Previsto')\n",
        "    plt.ylabel('Real')\n",
        "    plt.title(title)\n",
        "    plt.show()"
      ],
      "metadata": {
        "id": "lWjiC8ge8Avo"
      },
      "id": "lWjiC8ge8Avo",
      "execution_count": null,
      "outputs": []
    },
    {
      "cell_type": "markdown",
      "source": [
        "Definir uma função chamada plot_confusion_matrix que gera e exibe uma matriz de confusão como um gráfico de calor (heatmap) para avaliar o desempenho de um modelo de classificação."
      ],
      "metadata": {
        "id": "u7FsE7cE8GbR"
      },
      "id": "u7FsE7cE8GbR"
    },
    {
      "cell_type": "markdown",
      "source": [
        "### **Definição dos rótulos diretamente com base nos dados de teste**"
      ],
      "metadata": {
        "id": "0h6N7VDO8G9o"
      },
      "id": "0h6N7VDO8G9o"
    },
    {
      "cell_type": "code",
      "source": [
        "labels = y_test.unique()"
      ],
      "metadata": {
        "id": "KtM74_YA8HTd"
      },
      "id": "KtM74_YA8HTd",
      "execution_count": null,
      "outputs": []
    },
    {
      "cell_type": "markdown",
      "source": [
        " Extrair os rótulos únicos das classes do conjunto de dados de teste (y_test) para serem usados na visualização e interpretação da matriz de confusão."
      ],
      "metadata": {
        "id": "pCZ48N0QCUCV"
      },
      "id": "pCZ48N0QCUCV"
    },
    {
      "cell_type": "markdown",
      "source": [
        "### **Avaliando os modelos - BOW, TF e TF-IDF**"
      ],
      "metadata": {
        "id": "wARY-UZP5620"
      },
      "id": "wARY-UZP5620"
    },
    {
      "cell_type": "code",
      "source": [
        "y_pred_bow = clf_bow.predict(X_test_bow)\n",
        "y_pred_tf = clf_tf.predict(X_test_tf)\n",
        "y_pred_tfidf = clf_tfidf.predict(X_test_tfidf)\n",
        "\n",
        "#Modelo BOW\n",
        "print(\"Resultados para BOW (completa normalização):\")\n",
        "print(classification_report(y_test, y_pred_bow))\n",
        "print(\"Matriz de Confusão para BOW:\")\n",
        "print(confusion_matrix(y_test, y_pred_bow))\n",
        "plot_confusion_matrix(y_test, y_pred_bow, labels, \"Matriz de Confusão para BOW\")\n",
        "\n",
        "#Modelo TF\n",
        "print(\"Resultados para TF (completa normalização):\")\n",
        "print(classification_report(y_test, y_pred_tf))\n",
        "print(\"Matriz de Confusão para TF:\")\n",
        "print(confusion_matrix(y_test, y_pred_tf))\n",
        "plot_confusion_matrix(y_test, y_pred_tf, labels, \"Matriz de Confusão para TF\")\n",
        "\n",
        "#Modelo TF-IDF\n",
        "print(\"Resultados para TF-IDF (completa normalização):\")\n",
        "print(classification_report(y_test, y_pred_tfidf))\n",
        "print(\"Matriz de Confusão para TF-IDF:\")\n",
        "print(confusion_matrix(y_test, y_pred_tfidf))\n",
        "plot_confusion_matrix(y_test, y_pred_tfidf, labels, \"Matriz de Confusão para TF-IDF\")"
      ],
      "metadata": {
        "colab": {
          "base_uri": "https://localhost:8080/",
          "height": 1000
        },
        "id": "gOTeg-cu0Kac",
        "outputId": "151490c1-1ef5-45a9-b1c3-57274084f544"
      },
      "id": "gOTeg-cu0Kac",
      "execution_count": null,
      "outputs": [
        {
          "output_type": "stream",
          "name": "stdout",
          "text": [
            "Resultados para BOW (completa normalização):\n",
            "              precision    recall  f1-score   support\n",
            "\n",
            "   brinquedo       0.98      0.95      0.97       190\n",
            "        game       0.94      0.99      0.96       194\n",
            "       livro       0.99      0.97      0.98       261\n",
            "   maquiagem       0.99      1.00      0.99       230\n",
            "\n",
            "    accuracy                           0.98       875\n",
            "   macro avg       0.98      0.98      0.98       875\n",
            "weighted avg       0.98      0.98      0.98       875\n",
            "\n",
            "Matriz de Confusão para BOW:\n",
            "[[180   7   3   0]\n",
            " [  2 192   0   0]\n",
            " [  0   5 254   2]\n",
            " [  1   0   0 229]]\n"
          ]
        },
        {
          "output_type": "display_data",
          "data": {
            "text/plain": [
              "<Figure size 800x600 with 2 Axes>"
            ],
            "image/png": "[encoded data removed]"
          },
          "metadata": {}
        },
        {
          "output_type": "stream",
          "name": "stdout",
          "text": [
            "Resultados para TF (completa normalização):\n",
            "              precision    recall  f1-score   support\n",
            "\n",
            "   brinquedo       0.99      0.84      0.91       190\n",
            "        game       0.91      0.93      0.92       194\n",
            "       livro       0.91      0.98      0.94       261\n",
            "   maquiagem       0.97      1.00      0.98       230\n",
            "\n",
            "    accuracy                           0.94       875\n",
            "   macro avg       0.94      0.93      0.94       875\n",
            "weighted avg       0.94      0.94      0.94       875\n",
            "\n",
            "Matriz de Confusão para TF:\n",
            "[[159  14  14   3]\n",
            " [  2 180  12   0]\n",
            " [  0   3 255   3]\n",
            " [  0   1   0 229]]\n"
          ]
        },
        {
          "output_type": "display_data",
          "data": {
            "text/plain": [
              "<Figure size 800x600 with 2 Axes>"
            ],
            "image/png": "[encoded data removed]"
          },
          "metadata": {}
        },
        {
          "output_type": "stream",
          "name": "stdout",
          "text": [
            "Resultados para TF-IDF (completa normalização):\n",
            "              precision    recall  f1-score   support\n",
            "\n",
            "   brinquedo       0.98      0.93      0.96       190\n",
            "        game       0.95      0.99      0.97       194\n",
            "       livro       0.98      0.98      0.98       261\n",
            "   maquiagem       0.98      1.00      0.99       230\n",
            "\n",
            "    accuracy                           0.97       875\n",
            "   macro avg       0.97      0.97      0.97       875\n",
            "weighted avg       0.98      0.97      0.97       875\n",
            "\n",
            "Matriz de Confusão para TF-IDF:\n",
            "[[177   8   4   1]\n",
            " [  2 192   0   0]\n",
            " [  0   3 255   3]\n",
            " [  1   0   0 229]]\n"
          ]
        },
        {
          "output_type": "display_data",
          "data": {
            "text/plain": [
              "<Figure size 800x600 with 2 Axes>"
            ],
            "image/png": "[encoded data removed]"
          },
          "metadata": {}
        }
      ]
    },
    {
      "cell_type": "markdown",
      "source": [
        "### **Conclusão - PARTE 02**\n",
        "\n",
        "Nesta parte 02, foi aplicada uma normalização mais completa nos textos, incluindo tokenização, remoção de pontuação, conversão para letras minúsculas, remoção de stop-words e lematização.\n",
        "\n",
        "Os textos pré-processados foram então submetidos a três técnicas de vetorização de texto (BOW, TF e TF-IDF).\n",
        "\n",
        "Modelos de classificação baseados em Multinomial Naive Bayes foram treinados para cada configuração de vetorização e normalização.\n",
        "\n",
        "Relatórios de classificação foram gerados, incluindo métricas como precisão, recall e F1-score para cada categoria de produtos.\n",
        "\n",
        "Matrizes de confusão foram plotadas para visualizar o desempenho da classificação.\n",
        "\n",
        "Então **Parte 02**, demonstrou a importância da normalização de texto e como diferentes técnicas de vetorização e normalização podem impactar o desempenho do modelo na tarefa de classificação de produtos."
      ],
      "metadata": {
        "id": "J017h9JT_rwh"
      },
      "id": "J017h9JT_rwh"
    },
    {
      "cell_type": "markdown",
      "source": [
        "## **Parte 3 (Extra) - Diferentes algorítmos de classificação**"
      ],
      "metadata": {
        "id": "SQYm3SogCmvs"
      },
      "id": "SQYm3SogCmvs"
    },
    {
      "cell_type": "markdown",
      "source": [
        "### **Bibliotecas**"
      ],
      "metadata": {
        "id": "H6EghKVmCsUX"
      },
      "id": "H6EghKVmCsUX"
    },
    {
      "cell_type": "code",
      "source": [
        "import pandas as pd\n",
        "from sklearn.model_selection import train_test_split\n",
        "from sklearn.feature_extraction.text import TfidfVectorizer\n",
        "from sklearn.linear_model import LogisticRegression\n",
        "from sklearn.ensemble import RandomForestClassifier\n",
        "from sklearn.naive_bayes import MultinomialNB\n",
        "from sklearn.tree import DecisionTreeClassifier\n",
        "from sklearn.neural_network import MLPClassifier\n",
        "from sklearn.metrics import classification_report, accuracy_score\n",
        "import matplotlib.pyplot as plt\n",
        "import seaborn as sns"
      ],
      "metadata": {
        "id": "CEy9AnmuC2Zt"
      },
      "id": "CEy9AnmuC2Zt",
      "execution_count": null,
      "outputs": []
    },
    {
      "cell_type": "markdown",
      "source": [
        "Com objetivo de importar varias bibliotecas com modulos de dados."
      ],
      "metadata": {
        "id": "erfvHkrbFxPY"
      },
      "id": "erfvHkrbFxPY"
    },
    {
      "cell_type": "markdown",
      "source": [
        "### **Carregador de Dados**"
      ],
      "metadata": {
        "id": "GnPLCaT7Fyag"
      },
      "id": "GnPLCaT7Fyag"
    },
    {
      "cell_type": "code",
      "source": [
        "url = 'https://dados-ml-pln.s3-sa-east-1.amazonaws.com/produtos.csv'\n",
        "data = pd.read_csv(url, delimiter=';')\n",
        "print(data)"
      ],
      "metadata": {
        "colab": {
          "base_uri": "https://localhost:8080/"
        },
        "id": "_cl9hWRjFyjm",
        "outputId": "01662e95-4b55-4c03-b685-02ecd7f50565"
      },
      "id": "_cl9hWRjFyjm",
      "execution_count": null,
      "outputs": [
        {
          "output_type": "stream",
          "name": "stdout",
          "text": [
            "                                                   nome  \\\n",
            "0                               O Hobbit - 7ª Ed. 2013    \n",
            "1                    Livro - It A Coisa - Stephen King    \n",
            "2      Box  As Crônicas De Gelo E Fogo  Pocket  5 Li...   \n",
            "3                                     Box Harry Potter    \n",
            "4                             Livro Origem - Dan Brown    \n",
            "...                                                 ...   \n",
            "4075   Zelda: Breath Of The Wild - Expansion Pass - ...   \n",
            "4076   Middle Earth Shadow Of Mordor Legion Edition ...   \n",
            "4077   Fifa 17 Ps3 Dublado Em Pt Br Envio Digital Im...   \n",
            "4078   Gta San Andreas Hd Remastered Ps3 Envio Imedi...   \n",
            "4079   Mini Game  Nova Portátil 10mil Jogos Player M...   \n",
            "\n",
            "                                              descricao categoria  \n",
            "0     Produto NovoBilbo Bolseiro é um hobbit que lev...     livro  \n",
            "1     Produto NovoDurante as férias escolares de 195...     livro  \n",
            "2     Produto NovoTodo o reino de Westeros ao alcanc...     livro  \n",
            "3     Produto Novo e Físico  A série Harry Potter ch...     livro  \n",
            "4     Produto NovoDe Onde Viemos? Para Onde Vamos? R...     livro  \n",
            "...                                                 ...       ...  \n",
            "4075  ENVIO IMEDIATO APÓS CONFIRMAÇÃOCom este Passe ...      game  \n",
            "4076                                                NaN      game  \n",
            "4077                                                NaN      game  \n",
            "4078  Nome do jogo: GTA San Andreas HD RemasterConso...      game  \n",
            "4079  Para ligar o aparelho pressionar os botões On ...      game  \n",
            "\n",
            "[4080 rows x 3 columns]\n"
          ]
        }
      ]
    },
    {
      "cell_type": "markdown",
      "source": [
        "Possui o objetivo de carregar os dados do arquivo CSV da url: \"https://dados-ml-pln.s3-sa-east-1.amazonaws.com/produtos.csv\", usando a biblioteca Pandas."
      ],
      "metadata": {
        "id": "NFcmG9HNFzz0"
      },
      "id": "NFcmG9HNFzz0"
    },
    {
      "cell_type": "markdown",
      "source": [
        "### **Remoção de registros com valores faltantes**"
      ],
      "metadata": {
        "id": "YRXBngI_Fz6G"
      },
      "id": "YRXBngI_Fz6G"
    },
    {
      "cell_type": "code",
      "source": [
        "data = data.dropna()"
      ],
      "metadata": {
        "id": "yGZkZAoPF0Hu"
      },
      "id": "yGZkZAoPF0Hu",
      "execution_count": null,
      "outputs": []
    },
    {
      "cell_type": "markdown",
      "source": [
        "Possui o objetivo de remover linhas (registros) do DataFrame data que contenham valores faltantes (NaN, Not a Number) em qualquer uma das colunas."
      ],
      "metadata": {
        "id": "Xy1FHUVWF8m9"
      },
      "id": "Xy1FHUVWF8m9"
    },
    {
      "cell_type": "markdown",
      "source": [
        "### **Concatenando as colunas \"nome\" e \"descrição\"**"
      ],
      "metadata": {
        "id": "epXyQFubF8u_"
      },
      "id": "epXyQFubF8u_"
    },
    {
      "cell_type": "code",
      "source": [
        "data['texto'] = data['nome'] + ' ' + data['descricao']\n",
        "print(data['texto'])"
      ],
      "metadata": {
        "colab": {
          "base_uri": "https://localhost:8080/"
        },
        "id": "ZPhOQGi6JVQ-",
        "outputId": "77d02474-0f5b-4477-9c35-b68f9e8753e2"
      },
      "id": "ZPhOQGi6JVQ-",
      "execution_count": null,
      "outputs": [
        {
          "output_type": "stream",
          "name": "stdout",
          "text": [
            "0        O Hobbit - 7ª Ed. 2013  Produto NovoBilbo Bol...\n",
            "1        Livro - It A Coisa - Stephen King  Produto No...\n",
            "2        Box  As Crônicas De Gelo E Fogo  Pocket  5 Li...\n",
            "3        Box Harry Potter  Produto Novo e Físico  A sé...\n",
            "4        Livro Origem - Dan Brown  Produto NovoDe Onde...\n",
            "                              ...                        \n",
            "4073     Red Dead Redemption Edição Do Ano Goty Xbox 3...\n",
            "4074     Jogo Gta 5 Grand Theft Auto V Ps4 Mídia Cd + ...\n",
            "4075     Zelda: Breath Of The Wild - Expansion Pass - ...\n",
            "4078     Gta San Andreas Hd Remastered Ps3 Envio Imedi...\n",
            "4079     Mini Game  Nova Portátil 10mil Jogos Player M...\n",
            "Name: texto, Length: 2916, dtype: object\n"
          ]
        }
      ]
    },
    {
      "cell_type": "markdown",
      "source": [
        "Com o objetivo de criar uma nova coluna no DataFrame data chamada 'texto'."
      ],
      "metadata": {
        "id": "ubLlP-biJh9Z"
      },
      "id": "ubLlP-biJh9Z"
    },
    {
      "cell_type": "markdown",
      "source": [
        "### **Tokenização, remoção de pontuação, lowercasing**"
      ],
      "metadata": {
        "id": "Fy6foqYdJirh"
      },
      "id": "Fy6foqYdJirh"
    },
    {
      "cell_type": "code",
      "source": [
        "data['texto'] = data['texto'].str.lower().str.replace('[^\\w\\s]', '', regex=True)"
      ],
      "metadata": {
        "id": "0cQLZ33uJm1q"
      },
      "id": "0cQLZ33uJm1q",
      "execution_count": null,
      "outputs": []
    },
    {
      "cell_type": "markdown",
      "source": [
        "Preparação do texto na coluna \"texto\" para análise, tornando-o consistente em termos de maiúsculas/minúsculas e removendo caracteres indesejados."
      ],
      "metadata": {
        "id": "dgyS_fMDJtkX"
      },
      "id": "dgyS_fMDJtkX"
    },
    {
      "cell_type": "markdown",
      "source": [
        "### **Remoção de stop-words**"
      ],
      "metadata": {
        "id": "Y6Ltbk3BJt1w"
      },
      "id": "Y6Ltbk3BJt1w"
    },
    {
      "cell_type": "code",
      "source": [
        "stop_words = set(stopwords.words(\"portuguese\"))\n",
        "data['texto'] = data['texto'].apply(lambda x: ' '.join(word for word in x.split() if word not in stop_words))"
      ],
      "metadata": {
        "id": "8WJC2jzaJuEV"
      },
      "id": "8WJC2jzaJuEV",
      "execution_count": null,
      "outputs": []
    },
    {
      "cell_type": "markdown",
      "source": [
        "Possui o objetivo de remover palavras comuns que não contêm muita informação e, geralmente, não são úteis para a análise de texto."
      ],
      "metadata": {
        "id": "Me78MWZtJ0ZS"
      },
      "id": "Me78MWZtJ0ZS"
    },
    {
      "cell_type": "markdown",
      "source": [
        "### **Lematização**"
      ],
      "metadata": {
        "id": "LnLjCgpUJ0jL"
      },
      "id": "LnLjCgpUJ0jL"
    },
    {
      "cell_type": "code",
      "source": [
        "lemmatizer = WordNetLemmatizer()\n",
        "data['texto'] = data['texto'].apply(lambda x: ' '.join(lemmatizer.lemmatize(word) for word in x.split()))"
      ],
      "metadata": {
        "id": "Xea1mUBkJ08y"
      },
      "id": "Xea1mUBkJ08y",
      "execution_count": null,
      "outputs": []
    },
    {
      "cell_type": "markdown",
      "source": [
        "Com o objetivo de realizar a lematização nas palavras do texto na coluna \"texto\" do DataFrame \"data\". Assim é útil para garantir que palavras diferentes com a mesma raiz sejam tratadas de forma semelhante, reduzindo a dimensionalidade do texto e tornando a análise mais eficiente."
      ],
      "metadata": {
        "id": "5NnWw2lYJ36V"
      },
      "id": "5NnWw2lYJ36V"
    },
    {
      "cell_type": "markdown",
      "source": [
        "### **Dividos os dados em treinamento e teste (30% para teste)**"
      ],
      "metadata": {
        "id": "NPXklud7J4ED"
      },
      "id": "NPXklud7J4ED"
    },
    {
      "cell_type": "code",
      "source": [
        "X_train, X_test, y_train, y_test = train_test_split(data['texto'], data['categoria'], test_size=0.3, random_state=42)"
      ],
      "metadata": {
        "id": "LYHgV5jjKCD_"
      },
      "id": "LYHgV5jjKCD_",
      "execution_count": null,
      "outputs": []
    },
    {
      "cell_type": "markdown",
      "source": [
        "Possui a função de dividir os dados em conjuntos de treinamento e teste, separando o texto (características) e as categorias (rótulos) para o treinamento e teste de modelos de classificação."
      ],
      "metadata": {
        "id": "LLIP5wkOKDKk"
      },
      "id": "LLIP5wkOKDKk"
    },
    {
      "cell_type": "markdown",
      "source": [
        "### **Vetorização - TF-IDF**"
      ],
      "metadata": {
        "id": "DHS3_1sNKDaD"
      },
      "id": "DHS3_1sNKDaD"
    },
    {
      "cell_type": "code",
      "source": [
        "tfidf_vectorizer = TfidfVectorizer()\n",
        "X_train_tfidf = tfidf_vectorizer.fit_transform(X_train)\n",
        "X_test_tfidf = tfidf_vectorizer.transform(X_test)"
      ],
      "metadata": {
        "id": "1nVkmUnLKGVR"
      },
      "id": "1nVkmUnLKGVR",
      "execution_count": null,
      "outputs": []
    },
    {
      "cell_type": "markdown",
      "source": [
        "Realizar a vetorização do texto (representação numérica) usando o método TF-IDF nos conjuntos de treinamento e teste."
      ],
      "metadata": {
        "id": "j8y9tHZwKUDW"
      },
      "id": "j8y9tHZwKUDW"
    },
    {
      "cell_type": "markdown",
      "source": [
        "### **Modelo 1: Regressão Logística**"
      ],
      "metadata": {
        "id": "NHBKVmO1KQTA"
      },
      "id": "NHBKVmO1KQTA"
    },
    {
      "cell_type": "code",
      "source": [
        "model_lr = LogisticRegression()\n",
        "model_lr.fit(X_train_tfidf, y_train)"
      ],
      "metadata": {
        "colab": {
          "base_uri": "https://localhost:8080/",
          "height": 74
        },
        "id": "_n6kBYQwKUkQ",
        "outputId": "caa1027c-734c-45a2-8d59-b1cf7c365af5"
      },
      "id": "_n6kBYQwKUkQ",
      "execution_count": null,
      "outputs": [
        {
          "output_type": "execute_result",
          "data": {
            "text/plain": [
              "LogisticRegression()"
            ],
            "text/html": [
              "<style>#sk-container-id-2 {color: black;background-color: white;}#sk-container-id-2 pre{padding: 0;}#sk-container-id-2 div.sk-toggleable {background-color: white;}#sk-container-id-2 label.sk-toggleable__label {cursor: pointer;display: block;width: 100%;margin-bottom: 0;padding: 0.3em;box-sizing: border-box;text-align: center;}#sk-container-id-2 label.sk-toggleable__label-arrow:before {content: \"▸\";float: left;margin-right: 0.25em;color: #696969;}#sk-container-id-2 label.sk-toggleable__label-arrow:hover:before {color: black;}#sk-container-id-2 div.sk-estimator:hover label.sk-toggleable__label-arrow:before {color: black;}#sk-container-id-2 div.sk-toggleable__content {max-height: 0;max-width: 0;overflow: hidden;text-align: left;background-color: #f0f8ff;}#sk-container-id-2 div.sk-toggleable__content pre {margin: 0.2em;color: black;border-radius: 0.25em;background-color: #f0f8ff;}#sk-container-id-2 input.sk-toggleable__control:checked~div.sk-toggleable__content {max-height: 200px;max-width: 100%;overflow: auto;}#sk-container-id-2 input.sk-toggleable__control:checked~label.sk-toggleable__label-arrow:before {content: \"▾\";}#sk-container-id-2 div.sk-estimator input.sk-toggleable__control:checked~label.sk-toggleable__label {background-color: #d4ebff;}#sk-container-id-2 div.sk-label input.sk-toggleable__control:checked~label.sk-toggleable__label {background-color: #d4ebff;}#sk-container-id-2 input.sk-hidden--visually {border: 0;clip: rect(1px 1px 1px 1px);clip: rect(1px, 1px, 1px, 1px);height: 1px;margin: -1px;overflow: hidden;padding: 0;position: absolute;width: 1px;}#sk-container-id-2 div.sk-estimator {font-family: monospace;background-color: #f0f8ff;border: 1px dotted black;border-radius: 0.25em;box-sizing: border-box;margin-bottom: 0.5em;}#sk-container-id-2 div.sk-estimator:hover {background-color: #d4ebff;}#sk-container-id-2 div.sk-parallel-item::after {content: \"\";width: 100%;border-bottom: 1px solid gray;flex-grow: 1;}#sk-container-id-2 div.sk-label:hover label.sk-toggleable__label {background-color: #d4ebff;}#sk-container-id-2 div.sk-serial::before {content: \"\";position: absolute;border-left: 1px solid gray;box-sizing: border-box;top: 0;bottom: 0;left: 50%;z-index: 0;}#sk-container-id-2 div.sk-serial {display: flex;flex-direction: column;align-items: center;background-color: white;padding-right: 0.2em;padding-left: 0.2em;position: relative;}#sk-container-id-2 div.sk-item {position: relative;z-index: 1;}#sk-container-id-2 div.sk-parallel {display: flex;align-items: stretch;justify-content: center;background-color: white;position: relative;}#sk-container-id-2 div.sk-item::before, #sk-container-id-2 div.sk-parallel-item::before {content: \"\";position: absolute;border-left: 1px solid gray;box-sizing: border-box;top: 0;bottom: 0;left: 50%;z-index: -1;}#sk-container-id-2 div.sk-parallel-item {display: flex;flex-direction: column;z-index: 1;position: relative;background-color: white;}#sk-container-id-2 div.sk-parallel-item:first-child::after {align-self: flex-end;width: 50%;}#sk-container-id-2 div.sk-parallel-item:last-child::after {align-self: flex-start;width: 50%;}#sk-container-id-2 div.sk-parallel-item:only-child::after {width: 0;}#sk-container-id-2 div.sk-dashed-wrapped {border: 1px dashed gray;margin: 0 0.4em 0.5em 0.4em;box-sizing: border-box;padding-bottom: 0.4em;background-color: white;}#sk-container-id-2 div.sk-label label {font-family: monospace;font-weight: bold;display: inline-block;line-height: 1.2em;}#sk-container-id-2 div.sk-label-container {text-align: center;}#sk-container-id-2 div.sk-container {/* jupyter's `normalize.less` sets `[hidden] { display: none; }` but bootstrap.min.css set `[hidden] { display: none !important; }` so we also need the `!important` here to be able to override the default hidden behavior on the sphinx rendered scikit-learn.org. See: https://github.com/scikit-learn/scikit-learn/issues/21755 */display: inline-block !important;position: relative;}#sk-container-id-2 div.sk-text-repr-fallback {display: none;}</style><div id=\"sk-container-id-2\" class=\"sk-top-container\"><div class=\"sk-text-repr-fallback\"><pre>LogisticRegression()</pre><b>In a Jupyter environment, please rerun this cell to show the HTML representation or trust the notebook. <br />On GitHub, the HTML representation is unable to render, please try loading this page with nbviewer.org.</b></div><div class=\"sk-container\" hidden><div class=\"sk-item\"><div class=\"sk-estimator sk-toggleable\"><input class=\"sk-toggleable__control sk-hidden--visually\" id=\"sk-estimator-id-2\" type=\"checkbox\" checked><label for=\"sk-estimator-id-2\" class=\"sk-toggleable__label sk-toggleable__label-arrow\">LogisticRegression</label><div class=\"sk-toggleable__content\"><pre>LogisticRegression()</pre></div></div></div></div></div>"
            ]
          },
          "metadata": {},
          "execution_count": 37
        }
      ]
    },
    {
      "cell_type": "markdown",
      "source": [
        "Criação do modelo de classificação e Regressão Logística treinado para classificar texto com base nas representações TF-IDF das palavras."
      ],
      "metadata": {
        "id": "vS1FJefKKXJ_"
      },
      "id": "vS1FJefKKXJ_"
    },
    {
      "cell_type": "markdown",
      "source": [
        "### **Modelo 2: Random Forest**\n"
      ],
      "metadata": {
        "id": "Jz5f1zLOKXeK"
      },
      "id": "Jz5f1zLOKXeK"
    },
    {
      "cell_type": "code",
      "source": [
        "model_lr = LogisticRegression()\n",
        "model_lr.fit(X_train_tfidf, y_train)"
      ],
      "metadata": {
        "colab": {
          "base_uri": "https://localhost:8080/",
          "height": 74
        },
        "id": "cwnV9ne1KdGG",
        "outputId": "97f9a0cf-c00b-4a71-8450-13ec0b3ace5b"
      },
      "id": "cwnV9ne1KdGG",
      "execution_count": null,
      "outputs": [
        {
          "output_type": "execute_result",
          "data": {
            "text/plain": [
              "LogisticRegression()"
            ],
            "text/html": [
              "<style>#sk-container-id-3 {color: black;background-color: white;}#sk-container-id-3 pre{padding: 0;}#sk-container-id-3 div.sk-toggleable {background-color: white;}#sk-container-id-3 label.sk-toggleable__label {cursor: pointer;display: block;width: 100%;margin-bottom: 0;padding: 0.3em;box-sizing: border-box;text-align: center;}#sk-container-id-3 label.sk-toggleable__label-arrow:before {content: \"▸\";float: left;margin-right: 0.25em;color: #696969;}#sk-container-id-3 label.sk-toggleable__label-arrow:hover:before {color: black;}#sk-container-id-3 div.sk-estimator:hover label.sk-toggleable__label-arrow:before {color: black;}#sk-container-id-3 div.sk-toggleable__content {max-height: 0;max-width: 0;overflow: hidden;text-align: left;background-color: #f0f8ff;}#sk-container-id-3 div.sk-toggleable__content pre {margin: 0.2em;color: black;border-radius: 0.25em;background-color: #f0f8ff;}#sk-container-id-3 input.sk-toggleable__control:checked~div.sk-toggleable__content {max-height: 200px;max-width: 100%;overflow: auto;}#sk-container-id-3 input.sk-toggleable__control:checked~label.sk-toggleable__label-arrow:before {content: \"▾\";}#sk-container-id-3 div.sk-estimator input.sk-toggleable__control:checked~label.sk-toggleable__label {background-color: #d4ebff;}#sk-container-id-3 div.sk-label input.sk-toggleable__control:checked~label.sk-toggleable__label {background-color: #d4ebff;}#sk-container-id-3 input.sk-hidden--visually {border: 0;clip: rect(1px 1px 1px 1px);clip: rect(1px, 1px, 1px, 1px);height: 1px;margin: -1px;overflow: hidden;padding: 0;position: absolute;width: 1px;}#sk-container-id-3 div.sk-estimator {font-family: monospace;background-color: #f0f8ff;border: 1px dotted black;border-radius: 0.25em;box-sizing: border-box;margin-bottom: 0.5em;}#sk-container-id-3 div.sk-estimator:hover {background-color: #d4ebff;}#sk-container-id-3 div.sk-parallel-item::after {content: \"\";width: 100%;border-bottom: 1px solid gray;flex-grow: 1;}#sk-container-id-3 div.sk-label:hover label.sk-toggleable__label {background-color: #d4ebff;}#sk-container-id-3 div.sk-serial::before {content: \"\";position: absolute;border-left: 1px solid gray;box-sizing: border-box;top: 0;bottom: 0;left: 50%;z-index: 0;}#sk-container-id-3 div.sk-serial {display: flex;flex-direction: column;align-items: center;background-color: white;padding-right: 0.2em;padding-left: 0.2em;position: relative;}#sk-container-id-3 div.sk-item {position: relative;z-index: 1;}#sk-container-id-3 div.sk-parallel {display: flex;align-items: stretch;justify-content: center;background-color: white;position: relative;}#sk-container-id-3 div.sk-item::before, #sk-container-id-3 div.sk-parallel-item::before {content: \"\";position: absolute;border-left: 1px solid gray;box-sizing: border-box;top: 0;bottom: 0;left: 50%;z-index: -1;}#sk-container-id-3 div.sk-parallel-item {display: flex;flex-direction: column;z-index: 1;position: relative;background-color: white;}#sk-container-id-3 div.sk-parallel-item:first-child::after {align-self: flex-end;width: 50%;}#sk-container-id-3 div.sk-parallel-item:last-child::after {align-self: flex-start;width: 50%;}#sk-container-id-3 div.sk-parallel-item:only-child::after {width: 0;}#sk-container-id-3 div.sk-dashed-wrapped {border: 1px dashed gray;margin: 0 0.4em 0.5em 0.4em;box-sizing: border-box;padding-bottom: 0.4em;background-color: white;}#sk-container-id-3 div.sk-label label {font-family: monospace;font-weight: bold;display: inline-block;line-height: 1.2em;}#sk-container-id-3 div.sk-label-container {text-align: center;}#sk-container-id-3 div.sk-container {/* jupyter's `normalize.less` sets `[hidden] { display: none; }` but bootstrap.min.css set `[hidden] { display: none !important; }` so we also need the `!important` here to be able to override the default hidden behavior on the sphinx rendered scikit-learn.org. See: https://github.com/scikit-learn/scikit-learn/issues/21755 */display: inline-block !important;position: relative;}#sk-container-id-3 div.sk-text-repr-fallback {display: none;}</style><div id=\"sk-container-id-3\" class=\"sk-top-container\"><div class=\"sk-text-repr-fallback\"><pre>LogisticRegression()</pre><b>In a Jupyter environment, please rerun this cell to show the HTML representation or trust the notebook. <br />On GitHub, the HTML representation is unable to render, please try loading this page with nbviewer.org.</b></div><div class=\"sk-container\" hidden><div class=\"sk-item\"><div class=\"sk-estimator sk-toggleable\"><input class=\"sk-toggleable__control sk-hidden--visually\" id=\"sk-estimator-id-3\" type=\"checkbox\" checked><label for=\"sk-estimator-id-3\" class=\"sk-toggleable__label sk-toggleable__label-arrow\">LogisticRegression</label><div class=\"sk-toggleable__content\"><pre>LogisticRegression()</pre></div></div></div></div></div>"
            ]
          },
          "metadata": {},
          "execution_count": 38
        }
      ]
    },
    {
      "cell_type": "markdown",
      "source": [
        "Criação do modelo de classificação com base no algoritmo Random Forest, treinado para classificar texto com base nas representações TF-IDF das palavras."
      ],
      "metadata": {
        "id": "xk6GOQdqKen6"
      },
      "id": "xk6GOQdqKen6"
    },
    {
      "cell_type": "markdown",
      "source": [
        "### **Modelo 3: Naive Bayes**"
      ],
      "metadata": {
        "id": "1OG8W2BqKe_t"
      },
      "id": "1OG8W2BqKe_t"
    },
    {
      "cell_type": "code",
      "source": [
        "model_nb = MultinomialNB()\n",
        "model_nb.fit(X_train_tfidf, y_train)"
      ],
      "metadata": {
        "colab": {
          "base_uri": "https://localhost:8080/",
          "height": 74
        },
        "id": "mnW_PUcdKg7J",
        "outputId": "c1d5abe1-3059-460a-abb2-9e248ee97012"
      },
      "id": "mnW_PUcdKg7J",
      "execution_count": null,
      "outputs": [
        {
          "output_type": "execute_result",
          "data": {
            "text/plain": [
              "MultinomialNB()"
            ],
            "text/html": [
              "<style>#sk-container-id-4 {color: black;background-color: white;}#sk-container-id-4 pre{padding: 0;}#sk-container-id-4 div.sk-toggleable {background-color: white;}#sk-container-id-4 label.sk-toggleable__label {cursor: pointer;display: block;width: 100%;margin-bottom: 0;padding: 0.3em;box-sizing: border-box;text-align: center;}#sk-container-id-4 label.sk-toggleable__label-arrow:before {content: \"▸\";float: left;margin-right: 0.25em;color: #696969;}#sk-container-id-4 label.sk-toggleable__label-arrow:hover:before {color: black;}#sk-container-id-4 div.sk-estimator:hover label.sk-toggleable__label-arrow:before {color: black;}#sk-container-id-4 div.sk-toggleable__content {max-height: 0;max-width: 0;overflow: hidden;text-align: left;background-color: #f0f8ff;}#sk-container-id-4 div.sk-toggleable__content pre {margin: 0.2em;color: black;border-radius: 0.25em;background-color: #f0f8ff;}#sk-container-id-4 input.sk-toggleable__control:checked~div.sk-toggleable__content {max-height: 200px;max-width: 100%;overflow: auto;}#sk-container-id-4 input.sk-toggleable__control:checked~label.sk-toggleable__label-arrow:before {content: \"▾\";}#sk-container-id-4 div.sk-estimator input.sk-toggleable__control:checked~label.sk-toggleable__label {background-color: #d4ebff;}#sk-container-id-4 div.sk-label input.sk-toggleable__control:checked~label.sk-toggleable__label {background-color: #d4ebff;}#sk-container-id-4 input.sk-hidden--visually {border: 0;clip: rect(1px 1px 1px 1px);clip: rect(1px, 1px, 1px, 1px);height: 1px;margin: -1px;overflow: hidden;padding: 0;position: absolute;width: 1px;}#sk-container-id-4 div.sk-estimator {font-family: monospace;background-color: #f0f8ff;border: 1px dotted black;border-radius: 0.25em;box-sizing: border-box;margin-bottom: 0.5em;}#sk-container-id-4 div.sk-estimator:hover {background-color: #d4ebff;}#sk-container-id-4 div.sk-parallel-item::after {content: \"\";width: 100%;border-bottom: 1px solid gray;flex-grow: 1;}#sk-container-id-4 div.sk-label:hover label.sk-toggleable__label {background-color: #d4ebff;}#sk-container-id-4 div.sk-serial::before {content: \"\";position: absolute;border-left: 1px solid gray;box-sizing: border-box;top: 0;bottom: 0;left: 50%;z-index: 0;}#sk-container-id-4 div.sk-serial {display: flex;flex-direction: column;align-items: center;background-color: white;padding-right: 0.2em;padding-left: 0.2em;position: relative;}#sk-container-id-4 div.sk-item {position: relative;z-index: 1;}#sk-container-id-4 div.sk-parallel {display: flex;align-items: stretch;justify-content: center;background-color: white;position: relative;}#sk-container-id-4 div.sk-item::before, #sk-container-id-4 div.sk-parallel-item::before {content: \"\";position: absolute;border-left: 1px solid gray;box-sizing: border-box;top: 0;bottom: 0;left: 50%;z-index: -1;}#sk-container-id-4 div.sk-parallel-item {display: flex;flex-direction: column;z-index: 1;position: relative;background-color: white;}#sk-container-id-4 div.sk-parallel-item:first-child::after {align-self: flex-end;width: 50%;}#sk-container-id-4 div.sk-parallel-item:last-child::after {align-self: flex-start;width: 50%;}#sk-container-id-4 div.sk-parallel-item:only-child::after {width: 0;}#sk-container-id-4 div.sk-dashed-wrapped {border: 1px dashed gray;margin: 0 0.4em 0.5em 0.4em;box-sizing: border-box;padding-bottom: 0.4em;background-color: white;}#sk-container-id-4 div.sk-label label {font-family: monospace;font-weight: bold;display: inline-block;line-height: 1.2em;}#sk-container-id-4 div.sk-label-container {text-align: center;}#sk-container-id-4 div.sk-container {/* jupyter's `normalize.less` sets `[hidden] { display: none; }` but bootstrap.min.css set `[hidden] { display: none !important; }` so we also need the `!important` here to be able to override the default hidden behavior on the sphinx rendered scikit-learn.org. See: https://github.com/scikit-learn/scikit-learn/issues/21755 */display: inline-block !important;position: relative;}#sk-container-id-4 div.sk-text-repr-fallback {display: none;}</style><div id=\"sk-container-id-4\" class=\"sk-top-container\"><div class=\"sk-text-repr-fallback\"><pre>MultinomialNB()</pre><b>In a Jupyter environment, please rerun this cell to show the HTML representation or trust the notebook. <br />On GitHub, the HTML representation is unable to render, please try loading this page with nbviewer.org.</b></div><div class=\"sk-container\" hidden><div class=\"sk-item\"><div class=\"sk-estimator sk-toggleable\"><input class=\"sk-toggleable__control sk-hidden--visually\" id=\"sk-estimator-id-4\" type=\"checkbox\" checked><label for=\"sk-estimator-id-4\" class=\"sk-toggleable__label sk-toggleable__label-arrow\">MultinomialNB</label><div class=\"sk-toggleable__content\"><pre>MultinomialNB()</pre></div></div></div></div></div>"
            ]
          },
          "metadata": {},
          "execution_count": 39
        }
      ]
    },
    {
      "cell_type": "markdown",
      "source": [
        " Criação do modelo de classificação usando o algoritmo Naive Bayes Multinomial, treinado para classificar texto com base nas representações TF-IDF das palavras."
      ],
      "metadata": {
        "id": "sydfVig2Klnb"
      },
      "id": "sydfVig2Klnb"
    },
    {
      "cell_type": "markdown",
      "source": [
        "### **Avalie os modelos - Regressão Logistica, Radom Forest e Naive Bayes**\n",
        "\n"
      ],
      "metadata": {
        "id": "Rcvim4mqKl3T"
      },
      "id": "Rcvim4mqKl3T"
    },
    {
      "cell_type": "code",
      "source": [
        "model_rf = RandomForestClassifier()\n",
        "model_rf.fit(X_train_tfidf, y_train)\n",
        "model_lr = LogisticRegression()\n",
        "model_lr.fit(X_train_tfidf, y_train)\n",
        "model_nb = MultinomialNB()\n",
        "model_nb.fit(X_train_tfidf, y_train)\n",
        "\n",
        "y_pred_rf = model_rf.predict(X_test_tfidf)\n",
        "y_pred_lr = model_lr.predict(X_test_tfidf)\n",
        "y_pred_nb = model_nb.predict(X_test_tfidf)\n",
        "\n",
        "\n",
        "print(\"Relatório de Classificação (Regressão Logística):\")\n",
        "print(classification_report(y_test, y_pred_lr))\n",
        "print(\"Matriz de Confusão (Regressão Logística):\")\n",
        "print(confusion_matrix(y_test, y_pred_lr))\n",
        "\n",
        "print(\"Relatório de Classificação (Random Forest):\")\n",
        "print(classification_report(y_test, y_pred_rf))\n",
        "print(\"Matriz de Confusão (Random Forest):\")\n",
        "print(confusion_matrix(y_test, y_pred_rf))\n",
        "\n",
        "print(\"Relatório de Classificação (Naive Bayes):\")\n",
        "print(classification_report(y_test, y_pred_nb))\n",
        "print(\"Matriz de Confusão (Naive Bayes):\")\n",
        "print(confusion_matrix(y_test, y_pred_nb))"
      ],
      "metadata": {
        "colab": {
          "base_uri": "https://localhost:8080/"
        },
        "id": "iQFKRulgKy_S",
        "outputId": "f67edbe2-b91e-437c-88ab-34d7d547712d"
      },
      "id": "iQFKRulgKy_S",
      "execution_count": null,
      "outputs": [
        {
          "output_type": "stream",
          "name": "stdout",
          "text": [
            "Relatório de Classificação (Regressão Logística):\n",
            "              precision    recall  f1-score   support\n",
            "\n",
            "   brinquedo       0.96      0.98      0.97       190\n",
            "        game       0.98      0.97      0.98       194\n",
            "       livro       0.99      0.99      0.99       261\n",
            "   maquiagem       1.00      1.00      1.00       230\n",
            "\n",
            "    accuracy                           0.99       875\n",
            "   macro avg       0.98      0.98      0.98       875\n",
            "weighted avg       0.99      0.99      0.99       875\n",
            "\n",
            "Matriz de Confusão (Regressão Logística):\n",
            "[[187   2   1   0]\n",
            " [  5 188   1   0]\n",
            " [  1   1 258   1]\n",
            " [  1   0   0 229]]\n",
            "Relatório de Classificação (Random Forest):\n",
            "              precision    recall  f1-score   support\n",
            "\n",
            "   brinquedo       0.97      0.98      0.98       190\n",
            "        game       0.99      0.97      0.98       194\n",
            "       livro       0.99      0.98      0.98       261\n",
            "   maquiagem       0.98      1.00      0.99       230\n",
            "\n",
            "    accuracy                           0.98       875\n",
            "   macro avg       0.98      0.98      0.98       875\n",
            "weighted avg       0.98      0.98      0.98       875\n",
            "\n",
            "Matriz de Confusão (Random Forest):\n",
            "[[186   1   1   2]\n",
            " [  3 189   2   0]\n",
            " [  2   1 256   2]\n",
            " [  0   0   0 230]]\n",
            "Relatório de Classificação (Naive Bayes):\n",
            "              precision    recall  f1-score   support\n",
            "\n",
            "   brinquedo       0.98      0.93      0.96       190\n",
            "        game       0.95      0.99      0.97       194\n",
            "       livro       0.98      0.98      0.98       261\n",
            "   maquiagem       0.98      1.00      0.99       230\n",
            "\n",
            "    accuracy                           0.97       875\n",
            "   macro avg       0.97      0.97      0.97       875\n",
            "weighted avg       0.98      0.97      0.97       875\n",
            "\n",
            "Matriz de Confusão (Naive Bayes):\n",
            "[[177   8   4   1]\n",
            " [  2 192   0   0]\n",
            " [  0   3 255   3]\n",
            " [  1   0   0 229]]\n"
          ]
        }
      ]
    },
    {
      "cell_type": "markdown",
      "source": [
        "O objetivo deste comando é avaliar e comparar o desempenho dos modelos de classificação em relação aos dados de teste."
      ],
      "metadata": {
        "id": "qbtgBe2dc5E8"
      },
      "id": "qbtgBe2dc5E8"
    },
    {
      "cell_type": "markdown",
      "source": [
        "### **Modelos de Classificação**"
      ],
      "metadata": {
        "id": "ow-apLQUdDwQ"
      },
      "id": "ow-apLQUdDwQ"
    },
    {
      "cell_type": "code",
      "source": [
        "models = {\n",
        "    \"Regressão Logística\": LogisticRegression(),\n",
        "    \"Random Forest\": RandomForestClassifier(),\n",
        "    \"Naive Bayes\": MultinomialNB(),\n",
        "    \"Árvore de Decisão\": DecisionTreeClassifier(),\n",
        "    \"Rede Neural (MLP)\": MLPClassifier()\n",
        "}\n",
        "\n",
        "results = {}  # Armazenar as métricas de avaliação\n",
        "\n",
        "for model_name, model in models.items():\n",
        "    model.fit(X_train_tfidf, y_train)\n",
        "    y_pred = model.predict(X_test_tfidf)\n",
        "    accuracy = accuracy_score(y_test, y_pred)\n",
        "    classification_rep = classification_report(y_test, y_pred, output_dict=True)\n",
        "\n",
        "    results[model_name] = {\n",
        "        \"Accuracy\": accuracy,\n",
        "        \"Precision\": classification_rep[\"weighted avg\"][\"precision\"],\n",
        "        \"Recall\": classification_rep[\"weighted avg\"][\"recall\"],\n",
        "        \"F1-Score\": classification_rep[\"weighted avg\"][\"f1-score\"]\n",
        "    }\n"
      ],
      "metadata": {
        "id": "KXA9IkPaMZMG"
      },
      "id": "KXA9IkPaMZMG",
      "execution_count": null,
      "outputs": []
    },
    {
      "cell_type": "markdown",
      "source": [
        " Com a função de realizar uma avaliação comparativa dos diferentes modelos de classificação e armazenar as métricas de desempenho para cada modelo em um formato que permita uma análise e seleção eficaz do melhor modelo para a tarefa de classificação de texto."
      ],
      "metadata": {
        "id": "9tP6JLJ9YL0K"
      },
      "id": "9tP6JLJ9YL0K"
    },
    {
      "cell_type": "markdown",
      "source": [
        "### **DataFrame com os resultados**"
      ],
      "metadata": {
        "id": "UCDCTPxNYNmv"
      },
      "id": "UCDCTPxNYNmv"
    },
    {
      "cell_type": "code",
      "source": [
        "results_df = pd.DataFrame(results).T\n",
        "print(results_df)"
      ],
      "metadata": {
        "colab": {
          "base_uri": "https://localhost:8080/"
        },
        "id": "OiCM9IgtYOLb",
        "outputId": "b9ac5140-e722-434a-baa8-25d8487f8f3c"
      },
      "id": "OiCM9IgtYOLb",
      "execution_count": null,
      "outputs": [
        {
          "output_type": "stream",
          "name": "stdout",
          "text": [
            "                     Accuracy  Precision    Recall  F1-Score\n",
            "Regressão Logística  0.985143   0.985245  0.985143  0.985157\n",
            "Random Forest        0.984000   0.984008  0.984000  0.983974\n",
            "Naive Bayes          0.974857   0.975248  0.974857  0.974775\n",
            "Árvore de Decisão    0.952000   0.954731  0.952000  0.952689\n",
            "Rede Neural (MLP)    0.992000   0.992063  0.992000  0.991999\n"
          ]
        }
      ]
    },
    {
      "cell_type": "markdown",
      "source": [
        "Criação de um DataFrame do pandas a partir do dicionário results contendo as métricas de avaliação dos modelos de classificação e, em seguida, imprimir esse DataFrame."
      ],
      "metadata": {
        "id": "OvZ3o7PTYXxR"
      },
      "id": "OvZ3o7PTYXxR"
    },
    {
      "cell_type": "markdown",
      "source": [
        "### **Gráfico de barras para visualizar a precisão dos modelos**"
      ],
      "metadata": {
        "id": "IhFBiIBbYX9i"
      },
      "id": "IhFBiIBbYX9i"
    },
    {
      "cell_type": "code",
      "source": [
        "plt.figure(figsize=(10, 6))\n",
        "sns.barplot(x=results_df.index, y=results_df['Precision'])\n",
        "plt.xlabel('Modelo de Classificação')\n",
        "plt.ylabel('Precisão')\n",
        "plt.title('Precisão dos Modelos de Classificação')\n",
        "plt.xticks(rotation=45)\n",
        "plt.tight_layout()\n",
        "plt.show()"
      ],
      "metadata": {
        "colab": {
          "base_uri": "https://localhost:8080/",
          "height": 607
        },
        "id": "-UB7RHwDYa_U",
        "outputId": "341e9893-fdd0-4e4a-bd4c-8793a82a453d"
      },
      "id": "-UB7RHwDYa_U",
      "execution_count": null,
      "outputs": [
        {
          "output_type": "display_data",
          "data": {
            "text/plain": [
              "<Figure size 1000x600 with 1 Axes>"
            ],
            "image/png": "[encoded data removed]"
          },
          "metadata": {}
        }
      ]
    },
    {
      "cell_type": "markdown",
      "source": [
        "### **Conclusão - PARTE 03**\n",
        "\n",
        "Dados de produtos foram carregados a partir de um arquivo CSV, pré-processados e combinados em uma única coluna \"texto\".\n",
        "\n",
        "O pré-processamento incluiu a conversão para letras minúsculas, remoção de caracteres não alfanuméricos, eliminação de stopwords em português e lematização das palavras.\n",
        "\n",
        "Os dados foram divididos em conjuntos de treinamento e teste.\n",
        "\n",
        "Modelos de classificação, incluindo Regressão Logística, Random Forest e Naive Bayes (MultinomialNB), foram treinados usando a representação TF-IDF dos textos.\n",
        "Previsões foram geradas para cada modelo.\n",
        "\n",
        "Os resultados foram avaliados com base em métricas de classificação, incluindo precisão, recall, F1-score e acurácia.\n",
        "\n",
        "A precisão média ponderada foi usada como métrica principal de avaliação de desempenho.\n",
        "\n",
        "Um gráfico de barras foi criado para visualizar a precisão de cada modelo.\n",
        "\n",
        "A **Parte 03** explorou o processo completo de classificação de texto, incluindo pré-processamento, treinamento de modelos e avaliação de desempenho. Os modelos foram comparados com base na precisão média ponderada, ajudando na seleção do modelo mais adequado para a tarefa de classificação de produtos com base em textos descritivos. A escolha do modelo depende dos requisitos específicos da aplicação e das métricas desejadas."
      ],
      "metadata": {
        "id": "H3YO-MN3YfKc"
      },
      "id": "H3YO-MN3YfKc"
    }
  ],
  "metadata": {
    "kernelspec": {
      "display_name": "Python 3 (ipykernel)",
      "language": "python",
      "name": "python3"
    },
    "language_info": {
      "codemirror_mode": {
        "name": "ipython",
        "version": 3
      },
      "file_extension": ".py",
      "mimetype": "text/x-python",
      "name": "python",
      "nbconvert_exporter": "python",
      "pygments_lexer": "ipython3",
      "version": "3.9.12"
    },
    "colab": {
      "provenance": [],
      "include_colab_link": true
    }
  },
  "nbformat": 4,
  "nbformat_minor": 5
}